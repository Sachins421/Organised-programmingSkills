{
 "cells": [
  {
   "cell_type": "code",
   "execution_count": 9,
   "id": "d64bdd04-3d07-45bc-9d8f-759a0621de70",
   "metadata": {
    "tags": []
   },
   "outputs": [
    {
     "data": {
      "text/html": [
       "<div class=\"dni-plaintext\"><pre>10,8253175473055</pre></div><style>\r\n",
       ".dni-code-hint {\r\n",
       "    font-style: italic;\r\n",
       "    overflow: hidden;\r\n",
       "    white-space: nowrap;\r\n",
       "}\r\n",
       ".dni-treeview {\r\n",
       "    white-space: nowrap;\r\n",
       "}\r\n",
       ".dni-treeview td {\r\n",
       "    vertical-align: top;\r\n",
       "    text-align: start;\r\n",
       "}\r\n",
       "details.dni-treeview {\r\n",
       "    padding-left: 1em;\r\n",
       "}\r\n",
       "table td {\r\n",
       "    text-align: start;\r\n",
       "}\r\n",
       "table tr { \r\n",
       "    vertical-align: top; \r\n",
       "    margin: 0em 0px;\r\n",
       "}\r\n",
       "table tr td pre \r\n",
       "{ \r\n",
       "    vertical-align: top !important; \r\n",
       "    margin: 0em 0px !important;\r\n",
       "} \r\n",
       "table th {\r\n",
       "    text-align: start;\r\n",
       "}\r\n",
       "</style>"
      ]
     },
     "metadata": {},
     "output_type": "display_data"
    }
   ],
   "source": [
    "abstract class Shape {\n",
    "    public abstract int Perimeter();\n",
    "    public virtual decimal Area() {\n",
    "        return Length * Width;\n",
    "    }\n",
    "\n",
    "    public int Length;\n",
    "    public int Width;\n",
    "    \n",
    "}\n",
    "\n",
    "class Triangle : Shape { \n",
    "    public int Side1 {get; set;}\n",
    "    public int Side2 {get; set;}\n",
    "    public int Side3 {get; set;}\n",
    "    \n",
    "    public override int Perimeter() {\n",
    "        return Side1 + Side2 + Side3;\n",
    "    }\n",
    "   \n",
    "    \n",
    "    public override decimal Area() {\n",
    "        var semiPerimeter = 0.5 * Perimeter();\n",
    "        \n",
    "        // Use Heron's Formula\n",
    "        return (decimal)Math.Sqrt(semiPerimeter * (semiPerimeter - Side1) * (semiPerimeter - Side2) * (semiPerimeter - Side3));\n",
    "    }\n",
    "\n",
    "    \n",
    "}\n",
    "class Rectangle : Shape {\n",
    "\n",
    "    public override int Perimeter() {\n",
    "        return Length*2 + Width*2;\n",
    "    }\n",
    "    \n",
    "}\n",
    "class Square : Rectangle { }\n",
    "\n",
    "// consequently, we can execute the perimeter and area methods on Triangle, Rectangle, and Square\n",
    "//var t = new Triangle() { Side1Length=3, Side2Length=4, Side3Length=5};\n",
    "//display(t.Area());\n",
    "//display(t.Perimeter());\n",
    "//display(t);\n",
    "var t = new Triangle() {Side1 = 5, Side2 = 5, Side3 = 5};\n",
    "t.Length = 5;\n",
    "t.Width = 4;\n",
    "display(t.Area()); // Returns default value if Area is not impelemented in the derived class"
   ]
  },
  {
   "cell_type": "markdown",
   "id": "f0a7ab73-10f2-4446-9992-8482eaeaa574",
   "metadata": {},
   "source": []
  }
 ],
 "metadata": {
  "kernelspec": {
   "display_name": ".NET (C#)",
   "language": "C#",
   "name": ".net-csharp"
  },
  "language_info": {
   "file_extension": ".cs",
   "mimetype": "text/x-csharp",
   "name": "C#",
   "pygments_lexer": "csharp",
   "version": "11.0"
  }
 },
 "nbformat": 4,
 "nbformat_minor": 5
}
