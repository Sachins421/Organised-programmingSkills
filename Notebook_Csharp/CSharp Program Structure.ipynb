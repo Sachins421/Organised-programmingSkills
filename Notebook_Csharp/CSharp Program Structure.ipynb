{
 "cells": [
  {
   "cell_type": "markdown",
   "id": "80ef3016-943e-4e1c-a4a9-c17bdf25f1c8",
   "metadata": {},
   "source": [
    "# Top-level statements - programs without Main methods\n"
   ]
  },
  {
   "cell_type": "markdown",
   "id": "21a793eb-7ab6-46bb-8160-c2eb08879d2f",
   "metadata": {},
   "source": [
    "- You don't have to explicitly include a Main method in a console application project. Instead, you can use the top-level statements feature to minimize the code you have to write. In this case, the compiler generates a class and Main method entry point for the application.\n",
    "- Top-level statements let you write simple programs for small utilities such as Azure Functions and GitHub Actions. They also make it simpler for new C# programmers to get started learning and writing code.\n",
    "- For more information : https://learn.microsoft.com/en-us/dotnet/csharp/fundamentals/program-structure/top-level-statements\n",
    "    "
   ]
  },
  {
   "cell_type": "code",
   "execution_count": 1,
   "id": "9cd464c8-7674-4b1f-8a22-b021dc465088",
   "metadata": {},
   "outputs": [
    {
     "name": "stdout",
     "output_type": "stream",
     "text": [
      "Hello World!\n"
     ]
    }
   ],
   "source": [
    "Console.WriteLine(\"Hello World!\");"
   ]
  },
  {
   "cell_type": "markdown",
   "id": "e94e5731-96a8-4953-a92c-dd0906482d6e",
   "metadata": {},
   "source": [
    "# using directives"
   ]
  },
  {
   "cell_type": "markdown",
   "id": "e611faf3-ac84-4c39-9e3e-dd36ec623765",
   "metadata": {},
   "source": [
    "- If you include using directives, they must come first in the file, as in this example:\n",
    "\n"
   ]
  },
  {
   "cell_type": "code",
   "execution_count": 2,
   "id": "0c717393-3156-43cb-93c2-75090039367d",
   "metadata": {},
   "outputs": [
    {
     "name": "stdout",
     "output_type": "stream",
     "text": [
      "Hello\n",
      "World!\n",
      "\n"
     ]
    }
   ],
   "source": [
    "using System.Text;\n",
    "\n",
    "StringBuilder builder = new();\n",
    "builder.AppendLine(\"Hello\");\n",
    "builder.AppendLine(\"World!\");\n",
    "\n",
    "Console.WriteLine(builder.ToString());"
   ]
  },
  {
   "cell_type": "markdown",
   "id": "65744cf0-b975-47f1-80e0-d5f617d8c71c",
   "metadata": {},
   "source": [
    "# Global namespace\n",
    "- Top-level statements are implicitly in the global namespace.\n",
    "- Namespaces and type definitions\n",
    "    - A file with top-level statements can also contain namespaces and type definitions, but they must come after the top-level statements. For example:\n",
    "\n",
    "\n"
   ]
  },
  {
   "cell_type": "code",
   "execution_count": 7,
   "id": "6f7a5147-3f68-4395-b62e-131b754ee364",
   "metadata": {},
   "outputs": [
    {
     "name": "stderr",
     "output_type": "stream",
     "text": [
      "\n",
      "(13,1): error CS7021: Cannot declare namespace in script code\n",
      "\n"
     ]
    },
    {
     "ename": "Error",
     "evalue": "compilation error",
     "output_type": "error",
     "traceback": []
    }
   ],
   "source": [
    "MyClass.TestMethod();\n",
    "MyNamespace.MyClass.MyMethod();\n",
    "\n",
    "public class MyClass\n",
    "{\n",
    "    public static void TestMethod()\n",
    "    {\n",
    "        Console.WriteLine(\"Hello World!\");\n",
    "    }\n",
    "\n",
    "}\n",
    "\n",
    "namespace MyNamespace\n",
    "{\n",
    "    class MyClass\n",
    "    {\n",
    "        public static void MyMethod()\n",
    "        {\n",
    "            Console.WriteLine(\"Hello World from MyNamespace.MyClass.MyMethod!\");\n",
    "        }\n",
    "    }\n",
    "}"
   ]
  },
  {
   "cell_type": "markdown",
   "id": "31b35788-de3e-4891-aac1-0b318ecc9076",
   "metadata": {},
   "source": [
    "# args\n",
    "- Top-level statements can reference the args variable to access any command-line arguments that were entered. The args variable is never null but its Length is zero if no command-line arguments were provided. For example:"
   ]
  },
  {
   "cell_type": "code",
   "execution_count": 12,
   "id": "2d068e3f-8375-4d26-b7a1-a60d12ceb605",
   "metadata": {},
   "outputs": [
    {
     "name": "stderr",
     "output_type": "stream",
     "text": [
      "\n",
      "(3,24): warning CS7022: The entry point of the program is global code; ignoring 'NewClass.Main(string[])' entry point.\n",
      "\n"
     ]
    }
   ],
   "source": [
    "class NewClass\n",
    "{\n",
    "    public static void Main(string[] args)\n",
    "    {\n",
    "        \n",
    "        if (args.Length > 0)\n",
    "        {\n",
    "            foreach (var arg in args)\n",
    "            {\n",
    "                Console.WriteLine($\"Argument={arg}\");\n",
    "            }\n",
    "        }\n",
    "        else\n",
    "        {\n",
    "            Console.WriteLine(\"No arguments\");\n",
    "        }\n",
    "    }\n",
    "}"
   ]
  },
  {
   "cell_type": "code",
   "execution_count": null,
   "id": "72dca44a-9445-4c11-afc7-84d5939c0ced",
   "metadata": {},
   "outputs": [],
   "source": []
  }
 ],
 "metadata": {
  "kernelspec": {
   "display_name": ".NET (C#)",
   "language": "C#",
   "name": ".net-csharp"
  },
  "language_info": {
   "file_extension": ".cs",
   "mimetype": "text/x-csharp",
   "name": "C#",
   "pygments_lexer": "csharp",
   "version": "11.0"
  }
 },
 "nbformat": 4,
 "nbformat_minor": 5
}
