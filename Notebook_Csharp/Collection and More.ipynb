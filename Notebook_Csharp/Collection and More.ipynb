{
 "cells": [
  {
   "cell_type": "markdown",
   "id": "dc3ba0e9-d73f-42be-ab09-36ca1bf370c1",
   "metadata": {},
   "source": [
    "# Collection\n",
    "\n",
    "- C# allows you to define generic classes, interfaces, abstract classes, fields, methods, static methods, properties, events, delegates, and operators using the type parameter and without the specific data type. A type parameter is a placeholder for a particular type specified when creating an instance of the generic type.\n",
    "\n",
    "- A generic type is declared by specifying a type parameter in an angle brackets after a type name, e.g. TypeName<T> where T is a type parameter.\n",
    "    \n",
    "- A generic class increases the reusability. The more type parameters mean more reusable it becomes. However, too much generalization makes code difficult to understand and maintain.\n",
    "- A generic class can be a base class to other generic or non-generic classes or abstract classes.\n",
    "- A generic class can be derived from other generic or non-generic interfaces, classes, or abstract classes.    "
   ]
  },
  {
   "cell_type": "code",
   "execution_count": 108,
   "id": "1a266116-d88b-45f3-a780-19870a55d186",
   "metadata": {},
   "outputs": [
    {
     "data": {
      "text/plain": [
       "Mumbai"
      ]
     },
     "metadata": {},
     "output_type": "display_data"
    },
    {
     "data": {
      "text/html": [
       "<div class=\"dni-plaintext\"><pre>50</pre></div><style>\r\n",
       ".dni-code-hint {\r\n",
       "    font-style: italic;\r\n",
       "    overflow: hidden;\r\n",
       "    white-space: nowrap;\r\n",
       "}\r\n",
       ".dni-treeview {\r\n",
       "    white-space: nowrap;\r\n",
       "}\r\n",
       ".dni-treeview td {\r\n",
       "    vertical-align: top;\r\n",
       "    text-align: start;\r\n",
       "}\r\n",
       "details.dni-treeview {\r\n",
       "    padding-left: 1em;\r\n",
       "}\r\n",
       "table td {\r\n",
       "    text-align: start;\r\n",
       "}\r\n",
       "table tr { \r\n",
       "    vertical-align: top; \r\n",
       "    margin: 0em 0px;\r\n",
       "}\r\n",
       "table tr td pre \r\n",
       "{ \r\n",
       "    vertical-align: top !important; \r\n",
       "    margin: 0em 0px !important;\r\n",
       "} \r\n",
       "table th {\r\n",
       "    text-align: start;\r\n",
       "}\r\n",
       "</style>"
      ]
     },
     "metadata": {},
     "output_type": "display_data"
    },
    {
     "data": {
      "text/html": [
       "<div class=\"dni-plaintext\"><pre>100</pre></div><style>\r\n",
       ".dni-code-hint {\r\n",
       "    font-style: italic;\r\n",
       "    overflow: hidden;\r\n",
       "    white-space: nowrap;\r\n",
       "}\r\n",
       ".dni-treeview {\r\n",
       "    white-space: nowrap;\r\n",
       "}\r\n",
       ".dni-treeview td {\r\n",
       "    vertical-align: top;\r\n",
       "    text-align: start;\r\n",
       "}\r\n",
       "details.dni-treeview {\r\n",
       "    padding-left: 1em;\r\n",
       "}\r\n",
       "table td {\r\n",
       "    text-align: start;\r\n",
       "}\r\n",
       "table tr { \r\n",
       "    vertical-align: top; \r\n",
       "    margin: 0em 0px;\r\n",
       "}\r\n",
       "table tr td pre \r\n",
       "{ \r\n",
       "    vertical-align: top !important; \r\n",
       "    margin: 0em 0px !important;\r\n",
       "} \r\n",
       "table th {\r\n",
       "    text-align: start;\r\n",
       "}\r\n",
       "</style>"
      ]
     },
     "metadata": {},
     "output_type": "display_data"
    },
    {
     "data": {
      "text/html": [
       "<div class=\"dni-plaintext\"><pre>200</pre></div><style>\r\n",
       ".dni-code-hint {\r\n",
       "    font-style: italic;\r\n",
       "    overflow: hidden;\r\n",
       "    white-space: nowrap;\r\n",
       "}\r\n",
       ".dni-treeview {\r\n",
       "    white-space: nowrap;\r\n",
       "}\r\n",
       ".dni-treeview td {\r\n",
       "    vertical-align: top;\r\n",
       "    text-align: start;\r\n",
       "}\r\n",
       "details.dni-treeview {\r\n",
       "    padding-left: 1em;\r\n",
       "}\r\n",
       "table td {\r\n",
       "    text-align: start;\r\n",
       "}\r\n",
       "table tr { \r\n",
       "    vertical-align: top; \r\n",
       "    margin: 0em 0px;\r\n",
       "}\r\n",
       "table tr td pre \r\n",
       "{ \r\n",
       "    vertical-align: top !important; \r\n",
       "    margin: 0em 0px !important;\r\n",
       "} \r\n",
       "table th {\r\n",
       "    text-align: start;\r\n",
       "}\r\n",
       "</style>"
      ]
     },
     "metadata": {},
     "output_type": "display_data"
    },
    {
     "data": {
      "text/plain": [
       "Hello"
      ]
     },
     "metadata": {},
     "output_type": "display_data"
    },
    {
     "data": {
      "text/plain": [
       "World!"
      ]
     },
     "metadata": {},
     "output_type": "display_data"
    }
   ],
   "source": [
    "class DataStore<T>\n",
    "{\n",
    "    public T Data { get; set; }\n",
    "    \n",
    "    private T[] _data = new T[10];\n",
    "    \n",
    "    public void AddOrUpdate(int index, T item)\n",
    "    {\n",
    "        if(index >= 0 && index < 10)\n",
    "            _data[index] = item;\n",
    "    }\n",
    "\n",
    "    public T GetData(int index)\n",
    "    {\n",
    "        if(index >= 0 && index < 10)\n",
    "            return _data[index];\n",
    "        else \n",
    "            return default(T);\n",
    "    }\n",
    "}\n",
    "\n",
    "DataStore<string> cities = new DataStore<string>();\n",
    "cities.AddOrUpdate(0, \"Mumbai\");\n",
    "cities.AddOrUpdate(1, \"Chicago\");\n",
    "cities.AddOrUpdate(2, \"London\");\n",
    "\n",
    "DataStore<int> empIds = new DataStore<int>();\n",
    "empIds.AddOrUpdate(0, 50);\n",
    "empIds.AddOrUpdate(1, 65);\n",
    "empIds.AddOrUpdate(2, 89);\n",
    "\n",
    "display(cities.GetData(0)); //Print values\n",
    "display(empIds.GetData(0)); //Print values\n",
    "\n",
    "DataStore<string> store = new DataStore<string>(); //object is created with string data type.\n",
    "DataStore<int> intstore = new DataStore<int>(); //object is created with string data type\n",
    "store.Data = \"Hello World!\";\n",
    "\n",
    "\n",
    "//**************************generic Method********************************\n",
    "\n",
    "\n",
    "class Printer\n",
    "{\n",
    "    public T Print<T>(T data)\n",
    "    {\n",
    "        //Console.WriteLine(data);\n",
    "        return data;\n",
    "    }\n",
    "    \n",
    "    public T PrintHello<T, Tcompressed>(dynamic data) \n",
    "    {\n",
    "        return (T)data;\n",
    "    }\n",
    "}\n",
    "\n",
    "Printer printer = new Printer();\n",
    "display(printer.Print<int>(100));\n",
    "display(printer.Print(200)); // type infer from the specified value\n",
    "display(printer.Print<string>(\"Hello\"));\n",
    "display(printer.Print(\"World!\")); // type infer from the specified value\n",
    "\n"
   ]
  },
  {
   "cell_type": "markdown",
   "id": "290678ba-7755-4713-bcef-cc0995f80c12",
   "metadata": {
    "tags": []
   },
   "source": [
    "# Generic Constraints\n",
    "\n",
    "- C# allows you to use constraints to restrict client code to specify certain types while instantiating generic types. It will give a compile-time error if you try to instantiate a generic type using a type that is not allowed by the specified constraints.\n",
    "\n",
    "- You can specify one or more constraints on the generic type using the where clause after the generic type name.\n",
    "\n",
    "**Syntax : GenericTypeName<T> where T  : contraint1, constraint2**\n",
    "    \n",
    "    \n",
    "    \n",
    "Constraint\tDescription\n",
    "- **class**:          The type argument must be any class, interface, delegate, or array type.\n",
    "- **class?**:           The type argument must be a nullable or non-nullable class, interface, delegate, or array type.\n",
    "- **struct**: The type argument must be non-nullable value types such as primitive data types int, char, bool, float, etc.\n",
    "- **new()** : The type argument must be a reference type which has a public parameterless constructor. It cannot be combined with struct and unmanaged constraints.\n",
    "- **notnull** : Available C# 8.0 onwards. The type argument can be non-nullable reference types or value types. If not, then the compiler generates a warning instead of an error.\n",
    "- **unmanaged** : The type argument must be non-nullable unmanged types.\n",
    "- **base class name** : The type argument must be or derive from the specified base class. The Object, Array, ValueType classes are disallowed as a base class constraint. The Enum, Delegate, MulticastDelegate are disallowed as base class constraint before C# 7.3.\n",
    "- **base class name?** : The type argument must be or derive from the specified nullable or non-nullable base class\n",
    "- **interface name** : The type argument must be or implement the specified interface.\n",
    "- **interface name?** : The type argument must be or implement the specified interface. It may be a nullable reference type, a non-nullable reference type, or a value type\n",
    "- **where T: U** : The type argument supplied for T must be or derive from the argument supplied for U."
   ]
  },
  {
   "cell_type": "code",
   "execution_count": 64,
   "id": "e6e70044-ce49-4ac4-bbbf-7c88b9e437a9",
   "metadata": {
    "tags": []
   },
   "outputs": [
    {
     "name": "stderr",
     "output_type": "stream",
     "text": [
      "\n",
      "(56,5): error CS0246: The type or namespace name 'T' could not be found (are you missing a using directive or an assembly reference?)\n",
      "\n",
      "(56,15): error CS0246: The type or namespace name 'T' could not be found (are you missing a using directive or an assembly reference?)\n",
      "\n"
     ]
    },
    {
     "ename": "Error",
     "evalue": "compilation error",
     "output_type": "error",
     "traceback": []
    }
   ],
   "source": [
    "class Data<T> where T : class\n",
    "{\n",
    "    public T Datacontianer { get; set; }\n",
    "}\n",
    "public class Demo\n",
    "{\n",
    "\n",
    "}\n",
    "public interface IData\n",
    "{\n",
    "}\n",
    "\n",
    "Data<string> store = new Data<string>(); // valid\n",
    "Data<Demo> store1 = new Data<Demo>(); // valid\n",
    "Data<IData> store2 = new Data<IData>(); // valid\n",
    "//Data<IEnumerable> store3 = new Data<IData>(); // valid Error : error CS0029: Cannot implicitly convert type 'Data<IData>' to 'Data<System.Collections.IEnumerable>'\n",
    "Data<ArrayList> store4 = new Data<ArrayList>(); // valid\n",
    "//DataStore<int> store = new DataStore<int>(); // compile-time error\n",
    "\n",
    "\n",
    "\n",
    "class DataStructs<T> where T : struct\n",
    "{\n",
    "    public T Data { get; set; }\n",
    "}\n",
    "\n",
    "DataStructs<int> struct1 = new DataStructs<int>(); // valid\n",
    "DataStructs<char> struct2 = new DataStructs<char>(); // valid\n",
    "//DataStructs<MyStruct> store = new DataStructs<MyStruct>(); // valid\n",
    "//DataStructs<string> store = new DataStructs<string>(); // compile-time error \n",
    "//DataStructs<IMyInterface> store = new DataStructs<IMyInterface>(); // compile-time error \n",
    "//DataStructs<ArrayList> store = new DataStructs<ArrayList>(); // compile-time error \n",
    "\n",
    "//*********************BaseClass***********************\n",
    "\n",
    "class DataBaseClass<T> where T : IEnumerable\n",
    "{\n",
    "    public T Data { get; set; }\n",
    "}\n",
    "\n",
    "DataBaseClass<ArrayList> BaseClassStore = new DataBaseClass<ArrayList>(); // valid\n",
    "//DataBaseClass<List> BaseClassStore1 = new DataBaseClass<List>(); // valid Error: error CS0305: Using the generic type 'List<T>' requires 1 type arguments\n",
    "\n",
    "//DataBaseClass<string> BaseClassStore = new DataBaseClass<string>(); // compile-time error \n",
    "//DataBaseClass<int> BaseClassStore = new DataBaseClass<int>(); // compile-time error \n",
    "//DataBaseClass<IMyInterface> BaseClassStore = new DataBaseClass<IMyInterface>(); // compile-time error \n",
    "//DataBaseClass<MyClass> BaseClassStore = new DataBaseClass<MyClass>(); // compile-time error \n",
    "\n",
    "\n",
    "\n",
    "//*******************New keyword**********************\n",
    "\n",
    "// The type argument must be a reference type which has a public parameterless constructor. It cannot be combined with struct and unmanaged constraints.\n",
    "class MyClass\n",
    "{\n",
    "   \n",
    "    public T GetInstance<T>() where T : new() //if not defined new then error CS0304: Cannot create an instance of the variable type 'T' because it does not have the new() constraint\n",
    "    {\n",
    "        return new T();\n",
    "    }\n",
    "}\n",
    "\n",
    "class ExampleClass\n",
    "{\n",
    "    public int Value { get; set; }\n",
    "}\n",
    "\n",
    "\n",
    "MyClass<ExampleClass> myClass = new MyClass<ExampleClass>();\n",
    "ExampleClass instance = myClass.CreateInstance();\n",
    "instance.Value = 42;\n",
    "display(instance.Value); // Output: 42\n"
   ]
  },
  {
   "cell_type": "markdown",
   "id": "0061d983-71cc-4587-b70e-3c50ef1fe212",
   "metadata": {},
   "source": [
    "# dynamic datatype\n",
    "\n",
    "- Late Binding: With dynamic, you can defer type checking and method resolution until runtime. This enables you to perform dynamic operations on objects without knowing their types at compile time.\n",
    "\n",
    "- Dynamic Invocation: You can call methods, access properties, and perform other operations on dynamic objects using the dot notation, just like you would with statically typed objects. The actual method or member to be invoked is resolved at runtime based on the object's runtime type.\n",
    "\n",
    "- Dynamic Dispatch: The dynamic dispatch mechanism allows for selecting the appropriate method or member implementation at runtime based on the object's runtime type. This enables the use of dynamic polymorphism, where the specific behavior is determined by the runtime type of the object.\n",
    "\n",
    "- No Compile-Time Type Checking: Since dynamic objects are resolved at runtime, the compiler doesn't perform type checking or provide IntelliSense for their members. Instead, type checking and member resolution happen at runtime, which may result in runtime errors if incompatible operations are performed."
   ]
  },
  {
   "cell_type": "code",
   "execution_count": 57,
   "id": "4cc3a9ae-3493-4a71-bc8c-2d8e80798ccc",
   "metadata": {
    "tags": []
   },
   "outputs": [
    {
     "name": "stdout",
     "output_type": "stream",
     "text": [
      "Hello, dynamic!\n",
      "15\n"
     ]
    }
   ],
   "source": [
    "dynamic dynamicObj = \"Hello, dynamic!\";\n",
    "Console.WriteLine(dynamicObj); // Output: Hello, dynamic!\n",
    "\n",
    "dynamicObj = 10;\n",
    "dynamic result = dynamicObj + 5;\n",
    "Console.WriteLine(result); // Output: 15\n",
    "\n",
    "dynamicObj = new List<int> { 1, 2, 3 };\n",
    "dynamicObj.Add(4); // Calls the Add method of List<int>"
   ]
  },
  {
   "cell_type": "markdown",
   "id": "e5461eaa-b19b-47c3-843b-f482a7f019ff",
   "metadata": {
    "tags": []
   },
   "source": [
    "# Serialization and Deserialization \n",
    "\n",
    "**Here are some common scenarios where JsonSerializerOptions is used:**\n",
    "\n",
    "- **Serialization and Deserialization Configuration:** JsonSerializerOptions allows you to customize the serialization and deserialization process. You can specify various settings such as property naming policies, handling of null values, ignoring null values during serialization, and more.\n",
    "\n",
    "- **Property Naming Policy:** You can configure how property names are converted during serialization and deserialization. For example, you can specify a CamelCaseNamingPolicy to convert property names to camel case or a custom naming policy to handle specific naming conventions.\n",
    "\n",
    "- **Ignoring Null Values:** By default, System.Text.Json includes null values when serializing objects. However, you can configure JsonSerializerOptions to ignore null values during serialization by setting the IgnoreNullValues property to true.\n",
    "\n",
    "- **Handling Reference Loop Handling:** If your object graph contains circular references, you can configure how System.Text.Json handles those scenarios. You can set the ReferenceHandler property of JsonSerializerOptions to control reference loop handling.\n",
    "\n",
    "- **Custom Converters:** JsonSerializerOptions allows you to register custom converters to handle specific types or customize the serialization/deserialization process for specific properties."
   ]
  },
  {
   "cell_type": "code",
   "execution_count": 103,
   "id": "74a15570-4b5e-402c-8d27-8fea415fcadc",
   "metadata": {},
   "outputs": [
    {
     "name": "stdout",
     "output_type": "stream",
     "text": [
      "{\"id\":1,\"name\":\"John Doe\",\"age\":10}\n"
     ]
    },
    {
     "data": {
      "text/html": [
       "<details open=\"open\" class=\"dni-treeview\"><summary><span class=\"dni-code-hint\"><code>Submission#105+SampleObject</code></span></summary><div><table><thead><tr></tr></thead><tbody><tr><td>Id</td><td><div class=\"dni-plaintext\"><pre>1</pre></div></td></tr><tr><td>Name</td><td>John Doe</td></tr><tr><td>Age</td><td><div class=\"dni-plaintext\"><pre>10</pre></div></td></tr></tbody></table></div></details><style>\r\n",
       ".dni-code-hint {\r\n",
       "    font-style: italic;\r\n",
       "    overflow: hidden;\r\n",
       "    white-space: nowrap;\r\n",
       "}\r\n",
       ".dni-treeview {\r\n",
       "    white-space: nowrap;\r\n",
       "}\r\n",
       ".dni-treeview td {\r\n",
       "    vertical-align: top;\r\n",
       "    text-align: start;\r\n",
       "}\r\n",
       "details.dni-treeview {\r\n",
       "    padding-left: 1em;\r\n",
       "}\r\n",
       "table td {\r\n",
       "    text-align: start;\r\n",
       "}\r\n",
       "table tr { \r\n",
       "    vertical-align: top; \r\n",
       "    margin: 0em 0px;\r\n",
       "}\r\n",
       "table tr td pre \r\n",
       "{ \r\n",
       "    vertical-align: top !important; \r\n",
       "    margin: 0em 0px !important;\r\n",
       "} \r\n",
       "table th {\r\n",
       "    text-align: start;\r\n",
       "}\r\n",
       "</style>"
      ]
     },
     "metadata": {},
     "output_type": "display_data"
    },
    {
     "data": {
      "text/html": [
       "<div class=\"dni-plaintext\"><pre>10</pre></div><style>\r\n",
       ".dni-code-hint {\r\n",
       "    font-style: italic;\r\n",
       "    overflow: hidden;\r\n",
       "    white-space: nowrap;\r\n",
       "}\r\n",
       ".dni-treeview {\r\n",
       "    white-space: nowrap;\r\n",
       "}\r\n",
       ".dni-treeview td {\r\n",
       "    vertical-align: top;\r\n",
       "    text-align: start;\r\n",
       "}\r\n",
       "details.dni-treeview {\r\n",
       "    padding-left: 1em;\r\n",
       "}\r\n",
       "table td {\r\n",
       "    text-align: start;\r\n",
       "}\r\n",
       "table tr { \r\n",
       "    vertical-align: top; \r\n",
       "    margin: 0em 0px;\r\n",
       "}\r\n",
       "table tr td pre \r\n",
       "{ \r\n",
       "    vertical-align: top !important; \r\n",
       "    margin: 0em 0px !important;\r\n",
       "} \r\n",
       "table th {\r\n",
       "    text-align: start;\r\n",
       "}\r\n",
       "</style>"
      ]
     },
     "metadata": {},
     "output_type": "display_data"
    },
    {
     "data": {
      "text/plain": [
       "John Doe"
      ]
     },
     "metadata": {},
     "output_type": "display_data"
    }
   ],
   "source": [
    "using System;\n",
    "using System.Text.Json; //does not matter\n",
    "using System.Text.Json.Serialization; //it is needed\n",
    "\n",
    "\n",
    "class SampleObject\n",
    "{\n",
    "    public int Id { get; set; }\n",
    "    public string Name { get; set; }\n",
    "    public int? Age { get; set; }\n",
    "}\n",
    "\n",
    "var options = new JsonSerializerOptions\n",
    "{\n",
    "    PropertyNamingPolicy = JsonNamingPolicy.CamelCase\n",
    "    //IgnoreNullValues = true\n",
    "};\n",
    "options.PropertyNameCaseInsensitive = true; \n",
    "options.Converters.Add(new JsonStringEnumConverter());\n",
    "\n",
    "var obj = new SampleObject { Id = 1, Name = \"John Doe\", Age = 10 };\n",
    "\n",
    "//display(obj);\n",
    "\n",
    "string json = JsonSerializer.Serialize(obj, options); // //also works without JsonSerializerOptions\n",
    "Console.WriteLine(json); // Output: {\"id\":1,\"name\":\"John Doe\"}\n",
    "\n",
    "var deserializedObj = JsonSerializer.Deserialize<SampleObject>(json, options); //looks like does not work without JsonSerializerOptions\n",
    "display(deserializedObj);\n",
    "display(deserializedObj.Age); // Output: 0\n",
    "display(deserializedObj.Name);"
   ]
  },
  {
   "cell_type": "markdown",
   "id": "94475867-63d2-4a78-ad25-79253fdef3bb",
   "metadata": {},
   "source": [
    "# AddScoped, AddTransient, and AddSingleton:\n",
    "are three different methods for registering services with dependency injection containers. They determine how the container creates and manages instances of the registered services. Here are the differences between them:\n",
    "\n",
    "- **AddScoped:** This method registers a service with a scoped lifetime. A scoped service is created once per request (or per scope) and reused within that request. If multiple components within the same request depend on the same scoped service, they will receive the same instance. However, different requests will receive different instances of the scoped service. Scoped services are typically used for per-request dependencies, such as database contexts or unit of work instances.\n",
    "\n",
    "- **AddTransient:** This method registers a service with a transient lifetime. A transient service is created each time it is requested. Transient services are not shared, and each component that depends on a transient service will receive a new instance. Transient services are useful when you want a new instance every time you request the service, such as for lightweight stateless services or helper classes.\n",
    "\n",
    "- **AddSingleton:** This method registers a service with a singleton lifetime. A singleton service is created only once during the application's lifetime and is shared across all requests and components that depend on it. Subsequent requests for the service will receive the same instance. Singleton services are typically used for stateful or shared resources, caching mechanisms, or services that have expensive initialization.\n",
    "\n",
    "services.AddScoped<IScopedService, ScopedService>();\n",
    "\n",
    "services.AddTransient<ITransientService, TransientService>();\n",
    "\n",
    "services.AddSingleton<ISingletonService, SingletonService>();\n",
    "\n",
    "\n",
    "When a request comes in:\n",
    "\n",
    "- Any component that depends on IScopedService within the same request will receive the same instance of ScopedService.\n",
    "- Any component that depends on ITransientService will receive a new instance of TransientService every time.\n",
    "- Any component that depends on ISingletonService will receive the same instance of SingletonService regardless of the request."
   ]
  },
  {
   "cell_type": "markdown",
   "id": "87a5b54c-51eb-43bf-9b44-d462312abfe9",
   "metadata": {},
   "source": [
    "# C# Lambda Expression\n",
    "\n",
    "- C# Lambda Expression is a short block of code that accepts parameters and returns a value. It is defined as an anonymous function (function without a name). For example,\n",
    "\n",
    "                    num => num * 7\n",
    "- Here, num is an input parameter and num * 7 is a return value. The lambda expression does not execute on its own. Instead, we use it inside other methods or variables.\n",
    "\n",
    "- Let's learn about lambda expressions in detail below.\n",
    "\n",
    "Here,\n",
    "\n",
    "- parameterList - list of input parameters\n",
    "- => - a lambda operator\n",
    "- lambda body - can be an expression or statement\n",
    "\n",
    "- Types of Lambda Expression\n",
    "- The two types of lambda expressions are:\n",
    "\n",
    "- Expression Lambda\n",
    "- Statement Lambda\n",
    "\n",
    "// Expression Lambda:\n",
    "\n",
    "(int num) => num * 5;\n",
    "\n",
    "// Statement Lambda:\n",
    "\n",
    "(int a, int b) =>\n",
    "{\n",
    "    var sum = a + b;\n",
    "    return sum;\n",
    "};"
   ]
  },
  {
   "cell_type": "code",
   "execution_count": 164,
   "id": "cef5e515-aa85-4cc3-bf84-7535ebf4c1ac",
   "metadata": {
    "tags": []
   },
   "outputs": [
    {
     "data": {
      "text/plain": [
       "C# Expression Lambda"
      ]
     },
     "metadata": {},
     "output_type": "display_data"
    },
    {
     "data": {
      "text/plain": [
       "Square of number: 25"
      ]
     },
     "metadata": {},
     "output_type": "display_data"
    },
    {
     "data": {
      "text/plain": [
       "Area of number: 125"
      ]
     },
     "metadata": {},
     "output_type": "display_data"
    },
    {
     "data": {
      "text/plain": [
       "C# Statement Lambda"
      ]
     },
     "metadata": {},
     "output_type": "display_data"
    },
    {
     "data": {
      "text/plain": [
       "Result of sum is :11"
      ]
     },
     "metadata": {},
     "output_type": "display_data"
    },
    {
     "data": {
      "text/plain": [
       "C# delegate Lambda"
      ]
     },
     "metadata": {},
     "output_type": "display_data"
    },
    {
     "name": "stdout",
     "output_type": "stream",
     "text": [
      "75\n"
     ]
    },
    {
     "data": {
      "text/plain": [
       "Another way of C# delegate Lambda"
      ]
     },
     "metadata": {},
     "output_type": "display_data"
    },
    {
     "name": "stdout",
     "output_type": "stream",
     "text": [
      "49\n",
      "Total number of 13: 3\n",
      "Max: 49\n"
     ]
    },
    {
     "data": {
      "text/html": [
       "<div class=\"dni-plaintext\"><pre>8</pre></div><style>\r\n",
       ".dni-code-hint {\r\n",
       "    font-style: italic;\r\n",
       "    overflow: hidden;\r\n",
       "    white-space: nowrap;\r\n",
       "}\r\n",
       ".dni-treeview {\r\n",
       "    white-space: nowrap;\r\n",
       "}\r\n",
       ".dni-treeview td {\r\n",
       "    vertical-align: top;\r\n",
       "    text-align: start;\r\n",
       "}\r\n",
       "details.dni-treeview {\r\n",
       "    padding-left: 1em;\r\n",
       "}\r\n",
       "table td {\r\n",
       "    text-align: start;\r\n",
       "}\r\n",
       "table tr { \r\n",
       "    vertical-align: top; \r\n",
       "    margin: 0em 0px;\r\n",
       "}\r\n",
       "table tr td pre \r\n",
       "{ \r\n",
       "    vertical-align: top !important; \r\n",
       "    margin: 0em 0px !important;\r\n",
       "} \r\n",
       "table th {\r\n",
       "    text-align: start;\r\n",
       "}\r\n",
       "</style>"
      ]
     },
     "metadata": {},
     "output_type": "display_data"
    }
   ],
   "source": [
    "// Example: C# Expression Lambda\n",
    "\n",
    "var square = (int num) => num * num;\n",
    "var Area = (int num) => num * num * num;\n",
    "\n",
    "// passing input to the expression lambda \n",
    "display(\"C# Expression Lambda\");\n",
    "display(\"Square of number: \" + square(5));\n",
    "display(\"Area of number: \" + Area(5));\n",
    "\n",
    "// Example: C# Statement Lambda\n",
    "display(\"C# Statement Lambda\");\n",
    "var resultSum = (int a, int b) => \n",
    "            { \n",
    "                int calculatedSum = a + b;\n",
    "                return calculatedSum; \n",
    "            };\n",
    "\n",
    "display(\"Result of sum is :\" + resultSum(5,6));\n",
    "\n",
    "\n",
    "\n",
    "display(\"C# delegate Lambda\");\n",
    "// using lambda expression with delegate type \n",
    "// take an int input, multiply it with 3 and return the result \n",
    "Func<int,int,int> multiply = (num1, num2) => { return num1 * num2 * 3; }; // check the end of statement semicolon and the parameters\n",
    "\n",
    "// calls multiply() by passing 5 as an input\n",
    "Console.WriteLine(multiply(5,5));\n",
    "\n",
    "//Another way to write delegate Lambda expression \n",
    "// method that returns square of a number\n",
    "display(\"Another way of C# delegate Lambda\");\n",
    "int Calc(int input)\n",
    "{\n",
    "    return input * input;\n",
    "}\n",
    "\n",
    "// delegate that points the Square() method \n",
    "Func<int, int> calc = Calc;\n",
    "\n",
    "// calling square() delegate \n",
    "Console.WriteLine(square(7));\n",
    "\n",
    "// ***********************Passing Parameter in Method*****************************************************************\n",
    "// We can pass a lambda expression as a parameter in a method call.\n",
    "\n",
    "//Let's take a built-in Count() method of C# array and pass a lambda expression as its parameter.\n",
    "\n",
    "// array containing integer values \n",
    "int[] numbers = { 2, 13, 1, 4, 13, 5, 13,49 };\n",
    "\n",
    "// lambda expression as method parameter\n",
    "// returns the total count of 13 in the numbers array\n",
    "int totalCount = numbers.Count(x => x == 13);\n",
    "int max = numbers.Max(x => x);\n",
    "int Length = numbers.GetLength(0); //Mehtod Length as well \n",
    "\n",
    "Console.WriteLine(\"Total number of 13: \" + totalCount);\n",
    "Console.WriteLine(\"Max: \" + max);\n",
    "display(Length);\n",
    "    "
   ]
  },
  {
   "cell_type": "code",
   "execution_count": null,
   "id": "af3b3530-3031-4e2d-ac47-70c4c0ade2bc",
   "metadata": {},
   "outputs": [],
   "source": []
  }
 ],
 "metadata": {
  "kernelspec": {
   "display_name": ".NET (C#)",
   "language": "C#",
   "name": ".net-csharp"
  },
  "language_info": {
   "file_extension": ".cs",
   "mimetype": "text/x-csharp",
   "name": "C#",
   "pygments_lexer": "csharp",
   "version": "11.0"
  }
 },
 "nbformat": 4,
 "nbformat_minor": 5
}
