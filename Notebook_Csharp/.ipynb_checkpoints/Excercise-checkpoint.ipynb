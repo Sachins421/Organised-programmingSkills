{
 "cells": [
  {
   "cell_type": "markdown",
   "id": "55885d42-bec1-4965-9d2c-7a328ba792ea",
   "metadata": {},
   "source": [
    "## In this exercise you'll be organizing races between various types of remote controlled cars. Each car has its own speed and battery drain characteristics.\n",
    "    \n",
    "Exercise(https://exercism.org/tracks/csharp/exercises/need-for-speed)\n",
    "\n"
   ]
  },
  {
   "cell_type": "code",
   "execution_count": 27,
   "id": "89b5fc13-e6c1-4e4e-9b5e-6e45a9e7e2b0",
   "metadata": {
    "tags": []
   },
   "outputs": [
    {
     "data": {
      "text/html": [
       "<div class=\"dni-plaintext\"><pre>450</pre></div><style>\r\n",
       ".dni-code-hint {\r\n",
       "    font-style: italic;\r\n",
       "    overflow: hidden;\r\n",
       "    white-space: nowrap;\r\n",
       "}\r\n",
       ".dni-treeview {\r\n",
       "    white-space: nowrap;\r\n",
       "}\r\n",
       ".dni-treeview td {\r\n",
       "    vertical-align: top;\r\n",
       "    text-align: start;\r\n",
       "}\r\n",
       "details.dni-treeview {\r\n",
       "    padding-left: 1em;\r\n",
       "}\r\n",
       "table td {\r\n",
       "    text-align: start;\r\n",
       "}\r\n",
       "table tr { \r\n",
       "    vertical-align: top; \r\n",
       "    margin: 0em 0px;\r\n",
       "}\r\n",
       "table tr td pre \r\n",
       "{ \r\n",
       "    vertical-align: top !important; \r\n",
       "    margin: 0em 0px !important;\r\n",
       "} \r\n",
       "table th {\r\n",
       "    text-align: start;\r\n",
       "}\r\n",
       "</style>"
      ]
     },
     "metadata": {},
     "output_type": "display_data"
    },
    {
     "data": {
      "text/html": [
       "<div class=\"dni-plaintext\"><pre>10</pre></div><style>\r\n",
       ".dni-code-hint {\r\n",
       "    font-style: italic;\r\n",
       "    overflow: hidden;\r\n",
       "    white-space: nowrap;\r\n",
       "}\r\n",
       ".dni-treeview {\r\n",
       "    white-space: nowrap;\r\n",
       "}\r\n",
       ".dni-treeview td {\r\n",
       "    vertical-align: top;\r\n",
       "    text-align: start;\r\n",
       "}\r\n",
       "details.dni-treeview {\r\n",
       "    padding-left: 1em;\r\n",
       "}\r\n",
       "table td {\r\n",
       "    text-align: start;\r\n",
       "}\r\n",
       "table tr { \r\n",
       "    vertical-align: top; \r\n",
       "    margin: 0em 0px;\r\n",
       "}\r\n",
       "table tr td pre \r\n",
       "{ \r\n",
       "    vertical-align: top !important; \r\n",
       "    margin: 0em 0px !important;\r\n",
       "} \r\n",
       "table th {\r\n",
       "    text-align: start;\r\n",
       "}\r\n",
       "</style>"
      ]
     },
     "metadata": {},
     "output_type": "display_data"
    },
    {
     "data": {
      "text/plain": [
       "Is race completed: True"
      ]
     },
     "metadata": {},
     "output_type": "display_data"
    }
   ],
   "source": [
    "public class RemoteControlCar\n",
    "    {\n",
    "\n",
    "        private int _speed;\n",
    "        private int _BatteryDrain;\n",
    "        public int Battery;\n",
    "        private int distancedriven;\n",
    "    \n",
    "    public RemoteControlCar(int speed, int BatteryDrain)\n",
    "        {\n",
    "            this._speed = speed;\n",
    "            this._BatteryDrain = BatteryDrain;\n",
    "            Battery = 100;\n",
    "        }\n",
    "\n",
    "        public bool batteryDrained() => Battery > _BatteryDrain;\n",
    "\n",
    "        public void Drive()\n",
    "        {\n",
    "            if (batteryDrained())\n",
    "            {\n",
    "                distancedriven += _speed;\n",
    "                Battery -= _BatteryDrain;\n",
    "            }\n",
    "        }\n",
    "\n",
    "        public int DistanceDriven()\n",
    "        {\n",
    "            return distancedriven;\n",
    "            \n",
    "        }\n",
    "\n",
    "\n",
    "        public static RemoteControlCar Nitro()\n",
    "        {\n",
    "            return new RemoteControlCar(50, 10); //define the speed and battery drain values\n",
    "        }\n",
    "    }\n",
    "\n",
    "    public class RaceTrack\n",
    "    {\n",
    "        int distance;\n",
    "        public RaceTrack(int distance)\n",
    "        {\n",
    "            this.distance = distance;\n",
    "        }\n",
    "\n",
    "        public bool TryFinishTrack(RemoteControlCar car)\n",
    "        {\n",
    "            while (car.batteryDrained())\n",
    "            {\n",
    "                car.Drive();\n",
    "            }\n",
    "\n",
    "            display(car.DistanceDriven());\n",
    "            display(car.Battery);\n",
    "            return car.DistanceDriven() >= distance;   \n",
    "            \n",
    "        }\n",
    "    }\n",
    "\n",
    "\n",
    "\n",
    "    //RemoteControlCar car = new RemoteControlCar(5,10);\n",
    "    //car.Drive();\n",
    "    //car.DistanceDriven();\n",
    "    RemoteControlCar car = RemoteControlCar.Nitro();\n",
    "    RaceTrack track = new RaceTrack(100); //define the race track distance\n",
    "    //racetrack.TryFinishTrack(car);\n",
    "    display($\"Is race completed: {track.TryFinishTrack(car)}\");\n",
    "   \n"
   ]
  },
  {
   "cell_type": "markdown",
   "id": "610fe7f8-2a41-476d-bd1f-73b762f5fe4a",
   "metadata": {},
   "source": [
    "# While completing Face ID 2.0, you'll learn 2 concepts - Face ID 2.0\n",
    "Object.GetHashCode() and HashSet<T> \n",
    "    \n",
    "Equality\n",
    "Simple types (strings and primitives) are typically tested for equality with the == and !=.\n",
    "\n",
    "Reference types (Instances of classes) are compared using the Equals() method inherited from Object. If your goal with the equality test is to ensure that two objects are the exact same instance then relying on Object's implementation will suffice. If not, you need to override object.Equals().\n",
    "\n",
    "If you know that all the instances of your class are created in one place, say characters in some game or simulation then reference equality is sufficient. However, it is likely that multiple instances of the same real-world entity will be created (from a database, by user input, via a web request). In this case values that uniquely identify the entity must be tested for equality. Therefore Equals() must be overridden and appropriate data members of your class are tested for equality.\n",
    "\n",
    "An overridden Equals() method will contain equality tests on members of simple types using == and reference types with recursive calls to Equals().\n",
    "\n",
    "The Object class provides appropriate methods to compare two objects to detect if they are one and the same instance.\n",
    "\n",
    "Object.GetHashCode()\n",
    "The Object.GetHashCode() method returns a hash code in the form of a 32 bit integer. The hash code is used by dictionary and set classes such as Dictionary<T> and HashSet<T>to store and retrieve objects in a performant manner.\n",
    "\n",
    "The relationship between hash code and equality is that if two objects are equal (Equal() returns true) then GetHashCode() for the two objects must return the same value. This does not apply in the reverse direction. It is not symmetrical. Just because two objects have the same hashcode they do not have to be equal. Picture a lookup function that first goes to a \"bucket\" based on the hash code and then picks out the particular item using the equality test.\n",
    "\n",
    "The HashCode library API documentation discusses the best way to generate a hash code\n",
    "\n",
    "The values used in the equality test must be stable while the hashed collection is in use. If you add an object to the collection with one set of values and then change those values the hash code will no longer point to the correct \"bucket\". In practice this means that the object should be immutable. Other approaches run the risk of creating gotchas for maintainers.\n",
    "\n",
    "# Sets\n",
    "A set is a collection of unique values. The default .NET implementation of a set is the HashSet<T> class, which is a collection that only contains unique values.\n",
    "\n",
    "Here is the link to breif overveiw of the task [Link](https://exercism.org/tracks/csharp/exercises/faceid-2)"
   ]
  },
  {
   "cell_type": "code",
   "execution_count": 211,
   "id": "cd3ac709-ae24-44ef-b428-59b56b3dcd7b",
   "metadata": {},
   "outputs": [
    {
     "data": {
      "text/plain": [
       "Are object same: True"
      ]
     },
     "metadata": {},
     "output_type": "display_data"
    },
    {
     "data": {
      "text/plain": [
       "Are object same: False"
      ]
     },
     "metadata": {},
     "output_type": "display_data"
    },
    {
     "data": {
      "text/plain": [
       "Is admin : True"
      ]
     },
     "metadata": {},
     "output_type": "display_data"
    },
    {
     "data": {
      "text/plain": [
       "Is admin : False"
      ]
     },
     "metadata": {},
     "output_type": "display_data"
    },
    {
     "data": {
      "text/plain": [
       "Added :True"
      ]
     },
     "metadata": {},
     "output_type": "display_data"
    },
    {
     "data": {
      "text/plain": [
       "Is registered :True"
      ]
     },
     "metadata": {},
     "output_type": "display_data"
    },
    {
     "data": {
      "text/plain": [
       "Is registered :False"
      ]
     },
     "metadata": {},
     "output_type": "display_data"
    }
   ],
   "source": [
    " public class FacialFeature\n",
    "    {\n",
    "\n",
    "        public string eye { get; }\n",
    "        public decimal philtrum { get; }\n",
    "\n",
    "        public FacialFeature(string eye, decimal philtrum)\n",
    "        {\n",
    "            this.eye = eye;\n",
    "            this.philtrum = philtrum;\n",
    "        }\n",
    "\n",
    "        public override bool Equals(object obj)\n",
    "        {\n",
    "            if (obj == null || GetType() != obj.GetType())\n",
    "                return false;\n",
    "\n",
    "            FacialFeature other = (FacialFeature)obj;\n",
    "\n",
    "            return eye == other.eye && philtrum == other.philtrum;\n",
    "        }\n",
    "\n",
    "        public override int GetHashCode()\n",
    "        {\n",
    "            return HashCode.Combine(eye, philtrum);\n",
    "        }\n",
    "    }\n",
    "\n",
    "\n",
    "    public class Identity\n",
    "    {\n",
    "        public string email;\n",
    "        public FacialFeature facialfeature;\n",
    "\n",
    "        public Identity(string email, FacialFeature facialfeature)\n",
    "        {\n",
    "            this.email = email;\n",
    "            this.facialfeature = facialfeature;\n",
    "        }\n",
    "\n",
    "        public override bool Equals(object obj)\n",
    "        {\n",
    "            if (obj == null || GetType() != obj.GetType())\n",
    "                return false;\n",
    "\n",
    "            Identity other = (Identity)obj;\n",
    "            //return email == other.email && Equals(facialfeature, other.facialfeature);\n",
    "            return email == other.email && facialfeature.Equals(other.facialfeature);\n",
    "        }\n",
    "\n",
    "        public override int GetHashCode()\n",
    "        {\n",
    "            return HashCode.Combine(email, facialfeature);\n",
    "        }\n",
    "\n",
    "    }\n",
    "    public class Authenticater\n",
    "    {\n",
    "        Identity identity;\n",
    "        HashSet<Identity> IsSet = new HashSet<Identity>();\n",
    "\n",
    "        public Authenticater(Identity iden)\n",
    "        {\n",
    "            identity = iden;\n",
    "        }\n",
    "\n",
    "        public bool IsAdmin(Identity identity)\n",
    "        {\n",
    "            return this.identity.Equals(identity);\n",
    "        }\n",
    "\n",
    "        public bool Register(Identity ident)\n",
    "        {\n",
    "            IsSet.Add(ident);\n",
    "            return true;\n",
    "        }\n",
    "\n",
    "        public bool IsRegistered(Identity ident)\n",
    "        {\n",
    "\n",
    "            return IsSet.Contains(ident);\n",
    "        }\n",
    "\n",
    "        public bool AreSameFace(Identity identityA, Identity identityB)\n",
    "        {\n",
    "            return identityA.Equals(identityB);\n",
    "        }\n",
    "\n",
    "        public static bool AreSameObject(Identity identityA, Identity identityB)\n",
    "        {\n",
    "            return identityA == identityB;\n",
    "        }\n",
    "    }\n",
    "    \n",
    "var identityA = new Identity(\"alice@thecompetition.com\", new FacialFeature(\"blue\", 0.9m));\n",
    "var identityB = identityA;\n",
    "display($\"Are object same: {Authenticater.AreSameObject(identityA, identityB)}\"); \n",
    "\n",
    "var identityC = new Identity(\"alice@thecompetition.com\", new FacialFeature(\"blue\", 0.9m));\n",
    "var identityD = new Identity(\"alice@thecompetition.com\", new FacialFeature(\"blue\", 0.9m));\n",
    "display($\"Are object same: {Authenticater.AreSameObject(identityC, identityD)}\"); \n",
    "\n",
    "var auth = new Authenticater(new Identity(\"admin@exerc.ism\",new FacialFeature(\"green\", 0.9m)));\n",
    "display($\"Is admin : {auth.IsAdmin(new Identity(\"admin@exerc.ism\", new FacialFeature(\"green\", 0.9m)))}\");\n",
    "\n",
    "display($\"Is admin : {auth.IsAdmin(new Identity(\"admin@thecompetition.com\", new FacialFeature(\"green\", 0.9m)))}\");\n",
    "\n",
    "display($\"Added :{auth.Register(new Identity(\"tunde@thecompetition.com\", new FacialFeature(\"blue\", 0.9m)))}\");\n",
    "\n",
    "//display($\"Same value Added :{auth.Register(new Identity(\"tunde@thecompetition.com\", new FacialFeature(\"blue\", 0.9m)))}\"); // was added \n",
    "\n",
    "display($\"Is registered :{auth.IsRegistered(new Identity(\"tunde@thecompetition.com\", new FacialFeature(\"blue\", 0.9m)))}\");\n",
    "\n",
    "display($\"Is registered :{auth.IsRegistered(new Identity(\"tunde1@thecompetition.com\", new FacialFeature(\"blue\", 0.9m)))}\");\n",
    "\n"
   ]
  },
  {
   "cell_type": "markdown",
   "id": "930b172e-59af-4b4f-afbd-52630f078c8a",
   "metadata": {},
   "source": [
    "# Exercise : Attack of the Trolls\n",
    "\n",
    "# Attributes\n",
    "A C# Attribute provides a way to decorate a declaration to associate metadata to: a class, a method, an enum, a field, a property or any other supported declarations.\n",
    "\n",
    "You can apply an attribute by adding it on the line before the declaration using a ClassAttribute and a FieldAttribute.\n",
    "\n",
    "This declarative metadata only associates additional structured information to the code and does not modify its behavior, but that metadata is used by other parts of the code to change how its target would behave or add, change or remove, restrict some its functionalities.\n",
    "\n",
    "There is [many predefined and reserved attributes] (https://learn.microsoft.com/en-us/dotnet/csharp/language-reference/attributes/general#conditional-attribute), for example: Flags, Obsolete, Conditional, each has a specific that can be looked up on the C# documentation. Note that the full name of an attribute like Flags.\n",
    "\n",
    "# Flag Enums\n",
    "The C# enum type represents a fixed set of named constants (an enumeration).\n",
    "\n",
    "Normally, one enum member can only refer to exactly one of those named constants. However, sometimes it is useful to refer to more than one constant. To do so, one can annotate the enum with the Flags attribute. [Link](https://exercism.org/tracks/csharp/exercises/attack-of-the-trolls)\n",
    "\n"
   ]
  },
  {
   "cell_type": "code",
   "execution_count": 215,
   "id": "dcf33451-ae97-4c03-abc8-9904086fe6b4",
   "metadata": {
    "tags": []
   },
   "outputs": [
    {
     "data": {
      "text/html": [
       "<span>Read</span>"
      ]
     },
     "metadata": {},
     "output_type": "display_data"
    },
    {
     "data": {
      "text/plain": [
       "00000001"
      ]
     },
     "metadata": {},
     "output_type": "display_data"
    },
    {
     "data": {
      "text/html": [
       "<span>Read, Write</span>"
      ]
     },
     "metadata": {},
     "output_type": "display_data"
    },
    {
     "data": {
      "text/html": [
       "<span>None</span>"
      ]
     },
     "metadata": {},
     "output_type": "display_data"
    },
    {
     "data": {
      "text/html": [
       "<div class=\"dni-plaintext\"><pre>False</pre></div><style>\r\n",
       ".dni-code-hint {\r\n",
       "    font-style: italic;\r\n",
       "    overflow: hidden;\r\n",
       "    white-space: nowrap;\r\n",
       "}\r\n",
       ".dni-treeview {\r\n",
       "    white-space: nowrap;\r\n",
       "}\r\n",
       ".dni-treeview td {\r\n",
       "    vertical-align: top;\r\n",
       "    text-align: start;\r\n",
       "}\r\n",
       "details.dni-treeview {\r\n",
       "    padding-left: 1em;\r\n",
       "}\r\n",
       "table td {\r\n",
       "    text-align: start;\r\n",
       "}\r\n",
       "table tr { \r\n",
       "    vertical-align: top; \r\n",
       "    margin: 0em 0px;\r\n",
       "}\r\n",
       "table tr td pre \r\n",
       "{ \r\n",
       "    vertical-align: top !important; \r\n",
       "    margin: 0em 0px !important;\r\n",
       "} \r\n",
       "table th {\r\n",
       "    text-align: start;\r\n",
       "}\r\n",
       "</style>"
      ]
     },
     "metadata": {},
     "output_type": "display_data"
    }
   ],
   "source": [
    "public enum AccountType\n",
    "{\n",
    "    Guest,\n",
    "    User,\n",
    "    Moderator,\n",
    "    Admin\n",
    "}\n",
    "\n",
    "[Flags]\n",
    "public enum Permission : byte\n",
    "{\n",
    "    Read = 0b00000001,\n",
    "    Write = 0b00000010,\n",
    "    Delete = 0b00000100,\n",
    "    All = Read | Write | Delete,\n",
    "    None = 0b00000000\n",
    "\n",
    "}\n",
    "\n",
    "public static class Permissions\n",
    "{\n",
    "    public static Permission Default(AccountType accountType)\n",
    "    {\n",
    "    return accountType switch {\n",
    "                AccountType.Guest => Permission.Read,\n",
    "                AccountType.Moderator => Permission.All,\n",
    "                AccountType.User => Permission.Read | Permission.Write, \n",
    "                _ => Permission.None // This is the default case which will match any other AccountType values not covered by the previous cases. \n",
    "                                    //In this case, the returned Permission is Permission.None.\n",
    "            };\n",
    "    \n",
    "    }\n",
    "    \n",
    "    public static Permission Grant(Permission current, Permission grant)\n",
    "    {\n",
    "        return current | grant;\n",
    "    }\n",
    "    \n",
    "    public static Permission Revoke(Permission current, Permission revoke)\n",
    "    {\n",
    "        return current & ~ revoke;\n",
    "    }\n",
    "    \n",
    "    public static bool Check(Permission current, Permission check)\n",
    "    {\n",
    "        return current.HasFlag(check);\n",
    "    }\n",
    "    \n",
    "}\n",
    "\n",
    "\n",
    "//var per = Permissions();\n",
    "display(Permissions.Default(AccountType.Guest));\n",
    "\n",
    "display(Convert.ToString((byte)Permissions.Default(AccountType.Guest), 2).PadLeft(8, '0'));\n",
    "\n",
    "//Grant\n",
    "display(Permissions.Grant(Permission.Read,Permission.Write));\n",
    "\n",
    "//Revoke\n",
    "display(Permissions.Revoke(Permission.Read,Permission.Read));\n",
    "\n",
    "//Check\n",
    "display(Permissions.Check(Permission.Read,Permission.Write));\n",
    "\n",
    "\n",
    "\n",
    "\n"
   ]
  },
  {
   "cell_type": "code",
   "execution_count": 214,
   "id": "7dafc371-ca01-4332-83be-7fbcf3d1c1d8",
   "metadata": {
    "tags": []
   },
   "outputs": [
    {
     "data": {
      "text/html": [
       "<div class=\"dni-plaintext\"><pre>10,8253175473055</pre></div><style>\r\n",
       ".dni-code-hint {\r\n",
       "    font-style: italic;\r\n",
       "    overflow: hidden;\r\n",
       "    white-space: nowrap;\r\n",
       "}\r\n",
       ".dni-treeview {\r\n",
       "    white-space: nowrap;\r\n",
       "}\r\n",
       ".dni-treeview td {\r\n",
       "    vertical-align: top;\r\n",
       "    text-align: start;\r\n",
       "}\r\n",
       "details.dni-treeview {\r\n",
       "    padding-left: 1em;\r\n",
       "}\r\n",
       "table td {\r\n",
       "    text-align: start;\r\n",
       "}\r\n",
       "table tr { \r\n",
       "    vertical-align: top; \r\n",
       "    margin: 0em 0px;\r\n",
       "}\r\n",
       "table tr td pre \r\n",
       "{ \r\n",
       "    vertical-align: top !important; \r\n",
       "    margin: 0em 0px !important;\r\n",
       "} \r\n",
       "table th {\r\n",
       "    text-align: start;\r\n",
       "}\r\n",
       "</style>"
      ]
     },
     "metadata": {},
     "output_type": "display_data"
    }
   ],
   "source": [
    "abstract class Shape {\n",
    "    public abstract int Perimeter();\n",
    "    public virtual decimal Area() {\n",
    "        return Length * Width;\n",
    "    }\n",
    "\n",
    "    public int Length;\n",
    "    public int Width;\n",
    "    \n",
    "}\n",
    "\n",
    "class Triangle : Shape { \n",
    "    public int Side1 {get; set;}\n",
    "    public int Side2 {get; set;}\n",
    "    public int Side3 {get; set;}\n",
    "    \n",
    "    public override int Perimeter() {\n",
    "        return Side1 + Side2 + Side3;\n",
    "    }\n",
    "   \n",
    "    \n",
    "    public override decimal Area() {\n",
    "        var semiPerimeter = 0.5 * Perimeter();\n",
    "        \n",
    "        // Use Heron's Formula\n",
    "        return (decimal)Math.Sqrt(semiPerimeter * (semiPerimeter - Side1) * (semiPerimeter - Side2) * (semiPerimeter - Side3));\n",
    "    }\n",
    "\n",
    "    \n",
    "}\n",
    "class Rectangle : Shape {\n",
    "\n",
    "    public override int Perimeter() {\n",
    "        return Length*2 + Width*2;\n",
    "    }\n",
    "    \n",
    "}\n",
    "class Square : Rectangle { }\n",
    "\n",
    "// consequently, we can execute the perimeter and area methods on Triangle, Rectangle, and Square\n",
    "//var t = new Triangle() { Side1Length=3, Side2Length=4, Side3Length=5};\n",
    "//display(t.Area());\n",
    "//display(t.Perimeter());\n",
    "//display(t);\n",
    "var t = new Triangle() {Side1 = 5, Side2 = 5, Side3 = 5};\n",
    "t.Length = 5;\n",
    "t.Width = 4;\n",
    "display(t.Area()); // Returns default value if Area is not impelemented in the derived class"
   ]
  },
  {
   "cell_type": "markdown",
   "id": "19282f7d-e2c1-4b08-8dc8-52af53bcbe19",
   "metadata": {},
   "source": [
    "# Dictionary \n",
    "\n",
    "Dictionaries\n",
    "A dictionary is a collection of elements where each element comprises a key and value such that if a key is passed to a method of the dictionary its associated value is returned. It has the same role as maps or associative arrays do in other languages. [Link](https://exercism.org/tracks/csharp/exercises/international-calling-connoisseur)"
   ]
  },
  {
   "cell_type": "code",
   "execution_count": 264,
   "id": "527539d8-feb2-4f0f-8168-b351ac7e589b",
   "metadata": {
    "tags": []
   },
   "outputs": [
    {
     "data": {
      "text/html": [
       "<i>(empty)</i><style>\r\n",
       ".dni-code-hint {\r\n",
       "    font-style: italic;\r\n",
       "    overflow: hidden;\r\n",
       "    white-space: nowrap;\r\n",
       "}\r\n",
       ".dni-treeview {\r\n",
       "    white-space: nowrap;\r\n",
       "}\r\n",
       ".dni-treeview td {\r\n",
       "    vertical-align: top;\r\n",
       "    text-align: start;\r\n",
       "}\r\n",
       "details.dni-treeview {\r\n",
       "    padding-left: 1em;\r\n",
       "}\r\n",
       "table td {\r\n",
       "    text-align: start;\r\n",
       "}\r\n",
       "table tr { \r\n",
       "    vertical-align: top; \r\n",
       "    margin: 0em 0px;\r\n",
       "}\r\n",
       "table tr td pre \r\n",
       "{ \r\n",
       "    vertical-align: top !important; \r\n",
       "    margin: 0em 0px !important;\r\n",
       "} \r\n",
       "table th {\r\n",
       "    text-align: start;\r\n",
       "}\r\n",
       "</style>"
      ]
     },
     "metadata": {},
     "output_type": "display_data"
    },
    {
     "data": {
      "text/html": [
       "<table><thead><tr><th><i>key</i></th><th>value</th></tr></thead><tbody><tr><td><div class=\"dni-plaintext\"><pre>1</pre></div></td><td>United states Of America</td></tr><tr><td><div class=\"dni-plaintext\"><pre>55</pre></div></td><td>Brazil</td></tr><tr><td><div class=\"dni-plaintext\"><pre>91</pre></div></td><td>India</td></tr></tbody></table><style>\r\n",
       ".dni-code-hint {\r\n",
       "    font-style: italic;\r\n",
       "    overflow: hidden;\r\n",
       "    white-space: nowrap;\r\n",
       "}\r\n",
       ".dni-treeview {\r\n",
       "    white-space: nowrap;\r\n",
       "}\r\n",
       ".dni-treeview td {\r\n",
       "    vertical-align: top;\r\n",
       "    text-align: start;\r\n",
       "}\r\n",
       "details.dni-treeview {\r\n",
       "    padding-left: 1em;\r\n",
       "}\r\n",
       "table td {\r\n",
       "    text-align: start;\r\n",
       "}\r\n",
       "table tr { \r\n",
       "    vertical-align: top; \r\n",
       "    margin: 0em 0px;\r\n",
       "}\r\n",
       "table tr td pre \r\n",
       "{ \r\n",
       "    vertical-align: top !important; \r\n",
       "    margin: 0em 0px !important;\r\n",
       "} \r\n",
       "table th {\r\n",
       "    text-align: start;\r\n",
       "}\r\n",
       "</style>"
      ]
     },
     "metadata": {},
     "output_type": "display_data"
    },
    {
     "data": {
      "text/html": [
       "<table><thead><tr><th><i>key</i></th><th>value</th></tr></thead><tbody><tr><td><div class=\"dni-plaintext\"><pre>44</pre></div></td><td>United Kingdom</td></tr></tbody></table><style>\r\n",
       ".dni-code-hint {\r\n",
       "    font-style: italic;\r\n",
       "    overflow: hidden;\r\n",
       "    white-space: nowrap;\r\n",
       "}\r\n",
       ".dni-treeview {\r\n",
       "    white-space: nowrap;\r\n",
       "}\r\n",
       ".dni-treeview td {\r\n",
       "    vertical-align: top;\r\n",
       "    text-align: start;\r\n",
       "}\r\n",
       "details.dni-treeview {\r\n",
       "    padding-left: 1em;\r\n",
       "}\r\n",
       "table td {\r\n",
       "    text-align: start;\r\n",
       "}\r\n",
       "table tr { \r\n",
       "    vertical-align: top; \r\n",
       "    margin: 0em 0px;\r\n",
       "}\r\n",
       "table tr td pre \r\n",
       "{ \r\n",
       "    vertical-align: top !important; \r\n",
       "    margin: 0em 0px !important;\r\n",
       "} \r\n",
       "table th {\r\n",
       "    text-align: start;\r\n",
       "}\r\n",
       "</style>"
      ]
     },
     "metadata": {},
     "output_type": "display_data"
    },
    {
     "data": {
      "text/html": [
       "<table><thead><tr><th><i>key</i></th><th>value</th></tr></thead><tbody><tr><td><div class=\"dni-plaintext\"><pre>1</pre></div></td><td>United states Of America</td></tr><tr><td><div class=\"dni-plaintext\"><pre>55</pre></div></td><td>Brazil</td></tr><tr><td><div class=\"dni-plaintext\"><pre>91</pre></div></td><td>India</td></tr><tr><td><div class=\"dni-plaintext\"><pre>44</pre></div></td><td>United Kingdom</td></tr></tbody></table><style>\r\n",
       ".dni-code-hint {\r\n",
       "    font-style: italic;\r\n",
       "    overflow: hidden;\r\n",
       "    white-space: nowrap;\r\n",
       "}\r\n",
       ".dni-treeview {\r\n",
       "    white-space: nowrap;\r\n",
       "}\r\n",
       ".dni-treeview td {\r\n",
       "    vertical-align: top;\r\n",
       "    text-align: start;\r\n",
       "}\r\n",
       "details.dni-treeview {\r\n",
       "    padding-left: 1em;\r\n",
       "}\r\n",
       "table td {\r\n",
       "    text-align: start;\r\n",
       "}\r\n",
       "table tr { \r\n",
       "    vertical-align: top; \r\n",
       "    margin: 0em 0px;\r\n",
       "}\r\n",
       "table tr td pre \r\n",
       "{ \r\n",
       "    vertical-align: top !important; \r\n",
       "    margin: 0em 0px !important;\r\n",
       "} \r\n",
       "table th {\r\n",
       "    text-align: start;\r\n",
       "}\r\n",
       "</style>"
      ]
     },
     "metadata": {},
     "output_type": "display_data"
    },
    {
     "data": {
      "text/plain": []
     },
     "metadata": {},
     "output_type": "display_data"
    },
    {
     "data": {
      "text/plain": [
       "India"
      ]
     },
     "metadata": {},
     "output_type": "display_data"
    },
    {
     "data": {
      "text/html": [
       "<div class=\"dni-plaintext\"><pre>True</pre></div><style>\r\n",
       ".dni-code-hint {\r\n",
       "    font-style: italic;\r\n",
       "    overflow: hidden;\r\n",
       "    white-space: nowrap;\r\n",
       "}\r\n",
       ".dni-treeview {\r\n",
       "    white-space: nowrap;\r\n",
       "}\r\n",
       ".dni-treeview td {\r\n",
       "    vertical-align: top;\r\n",
       "    text-align: start;\r\n",
       "}\r\n",
       "details.dni-treeview {\r\n",
       "    padding-left: 1em;\r\n",
       "}\r\n",
       "table td {\r\n",
       "    text-align: start;\r\n",
       "}\r\n",
       "table tr { \r\n",
       "    vertical-align: top; \r\n",
       "    margin: 0em 0px;\r\n",
       "}\r\n",
       "table tr td pre \r\n",
       "{ \r\n",
       "    vertical-align: top !important; \r\n",
       "    margin: 0em 0px !important;\r\n",
       "} \r\n",
       "table th {\r\n",
       "    text-align: start;\r\n",
       "}\r\n",
       "</style>"
      ]
     },
     "metadata": {},
     "output_type": "display_data"
    },
    {
     "data": {
      "text/html": [
       "<table><thead><tr><th><i>key</i></th><th>value</th></tr></thead><tbody><tr><td><div class=\"dni-plaintext\"><pre>1</pre></div></td><td>United states Of America</td></tr><tr><td><div class=\"dni-plaintext\"><pre>55</pre></div></td><td>Brazil</td></tr><tr><td><div class=\"dni-plaintext\"><pre>91</pre></div></td><td>Japan</td></tr></tbody></table><style>\r\n",
       ".dni-code-hint {\r\n",
       "    font-style: italic;\r\n",
       "    overflow: hidden;\r\n",
       "    white-space: nowrap;\r\n",
       "}\r\n",
       ".dni-treeview {\r\n",
       "    white-space: nowrap;\r\n",
       "}\r\n",
       ".dni-treeview td {\r\n",
       "    vertical-align: top;\r\n",
       "    text-align: start;\r\n",
       "}\r\n",
       "details.dni-treeview {\r\n",
       "    padding-left: 1em;\r\n",
       "}\r\n",
       "table td {\r\n",
       "    text-align: start;\r\n",
       "}\r\n",
       "table tr { \r\n",
       "    vertical-align: top; \r\n",
       "    margin: 0em 0px;\r\n",
       "}\r\n",
       "table tr td pre \r\n",
       "{ \r\n",
       "    vertical-align: top !important; \r\n",
       "    margin: 0em 0px !important;\r\n",
       "} \r\n",
       "table th {\r\n",
       "    text-align: start;\r\n",
       "}\r\n",
       "</style>"
      ]
     },
     "metadata": {},
     "output_type": "display_data"
    },
    {
     "data": {
      "text/html": [
       "<table><thead><tr><th><i>key</i></th><th>value</th></tr></thead><tbody><tr><td><div class=\"dni-plaintext\"><pre>1</pre></div></td><td>United states Of America</td></tr><tr><td><div class=\"dni-plaintext\"><pre>55</pre></div></td><td>Brazil</td></tr><tr><td><div class=\"dni-plaintext\"><pre>91</pre></div></td><td>India</td></tr></tbody></table><style>\r\n",
       ".dni-code-hint {\r\n",
       "    font-style: italic;\r\n",
       "    overflow: hidden;\r\n",
       "    white-space: nowrap;\r\n",
       "}\r\n",
       ".dni-treeview {\r\n",
       "    white-space: nowrap;\r\n",
       "}\r\n",
       ".dni-treeview td {\r\n",
       "    vertical-align: top;\r\n",
       "    text-align: start;\r\n",
       "}\r\n",
       "details.dni-treeview {\r\n",
       "    padding-left: 1em;\r\n",
       "}\r\n",
       "table td {\r\n",
       "    text-align: start;\r\n",
       "}\r\n",
       "table tr { \r\n",
       "    vertical-align: top; \r\n",
       "    margin: 0em 0px;\r\n",
       "}\r\n",
       "table tr td pre \r\n",
       "{ \r\n",
       "    vertical-align: top !important; \r\n",
       "    margin: 0em 0px !important;\r\n",
       "} \r\n",
       "table th {\r\n",
       "    text-align: start;\r\n",
       "}\r\n",
       "</style>"
      ]
     },
     "metadata": {},
     "output_type": "display_data"
    },
    {
     "data": {
      "text/html": [
       "<table><thead><tr><th><i>key</i></th><th>value</th></tr></thead><tbody><tr><td><div class=\"dni-plaintext\"><pre>55</pre></div></td><td>Brazil</td></tr><tr><td><div class=\"dni-plaintext\"><pre>91</pre></div></td><td>India</td></tr></tbody></table><style>\r\n",
       ".dni-code-hint {\r\n",
       "    font-style: italic;\r\n",
       "    overflow: hidden;\r\n",
       "    white-space: nowrap;\r\n",
       "}\r\n",
       ".dni-treeview {\r\n",
       "    white-space: nowrap;\r\n",
       "}\r\n",
       ".dni-treeview td {\r\n",
       "    vertical-align: top;\r\n",
       "    text-align: start;\r\n",
       "}\r\n",
       "details.dni-treeview {\r\n",
       "    padding-left: 1em;\r\n",
       "}\r\n",
       "table td {\r\n",
       "    text-align: start;\r\n",
       "}\r\n",
       "table tr { \r\n",
       "    vertical-align: top; \r\n",
       "    margin: 0em 0px;\r\n",
       "}\r\n",
       "table tr td pre \r\n",
       "{ \r\n",
       "    vertical-align: top !important; \r\n",
       "    margin: 0em 0px !important;\r\n",
       "} \r\n",
       "table th {\r\n",
       "    text-align: start;\r\n",
       "}\r\n",
       "</style>"
      ]
     },
     "metadata": {},
     "output_type": "display_data"
    },
    {
     "data": {
      "text/plain": [
       "United states Of America"
      ]
     },
     "metadata": {},
     "output_type": "display_data"
    }
   ],
   "source": [
    "public class DialingCodes \n",
    "{\n",
    "    static Dictionary<int, string> countryCodeDic;\n",
    "    static Dictionary<int, string> emptyDict;\n",
    "    \n",
    "    public static Dictionary<int, string> GetEmptyDictionary() \n",
    "    {\n",
    "        emptyDict = new Dictionary<int, string>();\n",
    "        return emptyDict;\n",
    "    }\n",
    "    \n",
    "    public static Dictionary<int, string> GetExistingDictionary() \n",
    "    {\n",
    "       countryCodeDic = new Dictionary<int, string> \n",
    "       { [1] = \"United states Of America\",\n",
    "         [55] = \"Brazil\",\n",
    "         [91] = \"India\"\n",
    "        \n",
    "        };\n",
    "        return countryCodeDic;\n",
    "    }\n",
    "    \n",
    "    public static Dictionary<int, string> AddCountryToEmptyDictionary(int countryCode, string countryName)\n",
    "    {\n",
    "        //var emptyDict = DialingCodes.GetEmptyDictionary();\n",
    "        emptyDict.Add(countryCode, countryName);\n",
    "        return emptyDict;\n",
    "    }\n",
    "    \n",
    "    public static Dictionary<int, string> AddCountryToExistingDictionary(Dictionary<int, string> dictionary, int countrycode, string countryName)\n",
    "    {\n",
    "        dictionary.Add(countrycode,countryName);\n",
    "        return dictionary;\n",
    "    }\n",
    "    \n",
    "    public static string GetCountryNameFromDictionary(Dictionary<int, string> dict, int countryCode)\n",
    "    {\n",
    "        if (dict.TryGetValue(countryCode, out var result))\n",
    "            return result;\n",
    "        return \"\";\n",
    "    }\n",
    "    \n",
    "    public static bool CheckCodeExists(Dictionary<int, string> dict, int countryCode)\n",
    "    {\n",
    "        return dict.ContainsKey(countryCode);\n",
    "    }\n",
    "    \n",
    "    public static Dictionary<int, string> UpdateDictionary(Dictionary<int, string> dict, int coutrycode ,string countryName)\n",
    "    {\n",
    "        if (dict.ContainsKey(coutrycode)) \n",
    "        {\n",
    "            dict[coutrycode] = countryName;\n",
    "            return dict;\n",
    "        }\n",
    "        return dict;\n",
    "    }\n",
    "    \n",
    "    public static Dictionary<int, string> RemoveCountryFromDictionary(Dictionary<int, string> dict, int coutrycode)\n",
    "    {\n",
    "        if (dict.ContainsKey(coutrycode)) \n",
    "        {\n",
    "            dict.Remove(coutrycode);\n",
    "            return dict;\n",
    "        }\n",
    "        return dict;\n",
    "    }\n",
    "    \n",
    "    public static string FindLongestCountryName(Dictionary<int, string> dict)\n",
    "    {\n",
    "        return dict.Values.OrderByDescending(countryName => countryName.Length).FirstOrDefault(string.Empty);\n",
    "    }\n",
    "}\n",
    "\n",
    "\n",
    "display(DialingCodes.GetEmptyDictionary());\n",
    "display(DialingCodes.GetExistingDictionary());\n",
    "\n",
    "display(DialingCodes.AddCountryToEmptyDictionary(44,\"United Kingdom\"));\n",
    "\n",
    "display(DialingCodes.AddCountryToExistingDictionary(DialingCodes.GetExistingDictionary(),44,\"United Kingdom\"));\n",
    "display(DialingCodes.GetCountryNameFromDictionary(DialingCodes.GetExistingDictionary(),999));\n",
    "display(DialingCodes.GetCountryNameFromDictionary(DialingCodes.GetExistingDictionary(),91));\n",
    "\n",
    "display(DialingCodes.CheckCodeExists(DialingCodes.GetExistingDictionary(),91));\n",
    "\n",
    "display(DialingCodes.UpdateDictionary(DialingCodes.GetExistingDictionary(),91,\"Japan\"));\n",
    "\n",
    "display(DialingCodes.UpdateDictionary(DialingCodes.GetExistingDictionary(),999,\"NewLand\"));\n",
    "\n",
    "display(DialingCodes.RemoveCountryFromDictionary(DialingCodes.GetExistingDictionary(),1));\n",
    "\n",
    "display(DialingCodes.FindLongestCountryName(DialingCodes.GetExistingDictionary()));\n"
   ]
  },
  {
   "cell_type": "markdown",
   "id": "470dd678-b6d0-4229-aea9-de5f61ade9cb",
   "metadata": {},
   "source": [
    "# Wizards and Warriors - Inheritance\n",
    "[Link] (https://exercism.org/tracks/csharp/exercises/wizards-and-warriors)"
   ]
  },
  {
   "cell_type": "code",
   "execution_count": 265,
   "id": "fb9092d5-6509-4994-9b71-c8c661ca2c84",
   "metadata": {
    "tags": []
   },
   "outputs": [
    {
     "data": {
      "text/plain": [
       "Charcter Type is Warrior"
      ]
     },
     "metadata": {},
     "output_type": "display_data"
    },
    {
     "data": {
      "text/html": [
       "<div class=\"dni-plaintext\"><pre>False</pre></div><style>\r\n",
       ".dni-code-hint {\r\n",
       "    font-style: italic;\r\n",
       "    overflow: hidden;\r\n",
       "    white-space: nowrap;\r\n",
       "}\r\n",
       ".dni-treeview {\r\n",
       "    white-space: nowrap;\r\n",
       "}\r\n",
       ".dni-treeview td {\r\n",
       "    vertical-align: top;\r\n",
       "    text-align: start;\r\n",
       "}\r\n",
       "details.dni-treeview {\r\n",
       "    padding-left: 1em;\r\n",
       "}\r\n",
       "table td {\r\n",
       "    text-align: start;\r\n",
       "}\r\n",
       "table tr { \r\n",
       "    vertical-align: top; \r\n",
       "    margin: 0em 0px;\r\n",
       "}\r\n",
       "table tr td pre \r\n",
       "{ \r\n",
       "    vertical-align: top !important; \r\n",
       "    margin: 0em 0px !important;\r\n",
       "} \r\n",
       "table th {\r\n",
       "    text-align: start;\r\n",
       "}\r\n",
       "</style>"
      ]
     },
     "metadata": {},
     "output_type": "display_data"
    },
    {
     "data": {
      "text/plain": [
       "--Wizard--"
      ]
     },
     "metadata": {},
     "output_type": "display_data"
    },
    {
     "data": {
      "text/html": [
       "<div class=\"dni-plaintext\"><pre>False</pre></div><style>\r\n",
       ".dni-code-hint {\r\n",
       "    font-style: italic;\r\n",
       "    overflow: hidden;\r\n",
       "    white-space: nowrap;\r\n",
       "}\r\n",
       ".dni-treeview {\r\n",
       "    white-space: nowrap;\r\n",
       "}\r\n",
       ".dni-treeview td {\r\n",
       "    vertical-align: top;\r\n",
       "    text-align: start;\r\n",
       "}\r\n",
       "details.dni-treeview {\r\n",
       "    padding-left: 1em;\r\n",
       "}\r\n",
       "table td {\r\n",
       "    text-align: start;\r\n",
       "}\r\n",
       "table tr { \r\n",
       "    vertical-align: top; \r\n",
       "    margin: 0em 0px;\r\n",
       "}\r\n",
       "table tr td pre \r\n",
       "{ \r\n",
       "    vertical-align: top !important; \r\n",
       "    margin: 0em 0px !important;\r\n",
       "} \r\n",
       "table th {\r\n",
       "    text-align: start;\r\n",
       "}\r\n",
       "</style>"
      ]
     },
     "metadata": {},
     "output_type": "display_data"
    },
    {
     "data": {
      "text/html": [
       "<div class=\"dni-plaintext\"><pre>10</pre></div><style>\r\n",
       ".dni-code-hint {\r\n",
       "    font-style: italic;\r\n",
       "    overflow: hidden;\r\n",
       "    white-space: nowrap;\r\n",
       "}\r\n",
       ".dni-treeview {\r\n",
       "    white-space: nowrap;\r\n",
       "}\r\n",
       ".dni-treeview td {\r\n",
       "    vertical-align: top;\r\n",
       "    text-align: start;\r\n",
       "}\r\n",
       "details.dni-treeview {\r\n",
       "    padding-left: 1em;\r\n",
       "}\r\n",
       "table td {\r\n",
       "    text-align: start;\r\n",
       "}\r\n",
       "table tr { \r\n",
       "    vertical-align: top; \r\n",
       "    margin: 0em 0px;\r\n",
       "}\r\n",
       "table tr td pre \r\n",
       "{ \r\n",
       "    vertical-align: top !important; \r\n",
       "    margin: 0em 0px !important;\r\n",
       "} \r\n",
       "table th {\r\n",
       "    text-align: start;\r\n",
       "}\r\n",
       "</style>"
      ]
     },
     "metadata": {},
     "output_type": "display_data"
    }
   ],
   "source": [
    "public abstract class Character\n",
    "{\n",
    "    string characterType;\n",
    "    public Character(string characterType)\n",
    "    {\n",
    "        this.characterType = characterType;\n",
    "    }\n",
    "    \n",
    "    public abstract void prepareSpell();\n",
    "    public abstract int DamagePoint();\n",
    "    public abstract bool Vulnerable();\n",
    "    \n",
    "    public override string ToString()\n",
    "    {\n",
    "        return $\"Charcter Type is {characterType}\";\n",
    "    }\n",
    "}\n",
    "\n",
    "public class Warrior : Character\n",
    "{\n",
    "    //bool isVulnerable;\n",
    "    public Warrior() : base(\"Warrior\")\n",
    "    {\n",
    "        \n",
    "    }\n",
    "    \n",
    "    public override bool Vulnerable()\n",
    "    {\n",
    "        return false;\n",
    "    }\n",
    "    \n",
    "    public override int DamagePoint()\n",
    "    {\n",
    "        return 0;\n",
    "    }\n",
    "    \n",
    "    public override void prepareSpell(){}\n",
    "}\n",
    "\n",
    "public class Wizard : Character\n",
    "{\n",
    "    bool isVulnerable;\n",
    "    public Wizard() : base(\"Wizard\")\n",
    "    {\n",
    "        \n",
    "    }\n",
    "    \n",
    "    public override bool Vulnerable()\n",
    "    {\n",
    "        return isVulnerable;\n",
    "    }\n",
    "    \n",
    "    public override int DamagePoint()\n",
    "    {\n",
    "       return isVulnerable ? 12 : 10;\n",
    "    }\n",
    "    \n",
    "    public override void prepareSpell()\n",
    "    {\n",
    "          isVulnerable = true;\n",
    "    }\n",
    "    \n",
    "}\n",
    "\n",
    "var warrior = new Warrior();\n",
    "\n",
    "display(warrior.ToString());\n",
    "\n",
    "display(warrior.Vulnerable());\n",
    "\n",
    "display(\"--Wizard--\");\n",
    "\n",
    "var wizard = new Wizard();\n",
    "//wizard.prepareSpell();\n",
    "\n",
    "display(wizard.Vulnerable());\n",
    "\n",
    "display(wizard.DamagePoint());\n",
    "\n",
    "\n"
   ]
  },
  {
   "cell_type": "markdown",
   "id": "937e01d2-348d-4de9-b24a-77714855cbd7",
   "metadata": {},
   "source": [
    "# Nullable Types\n"
   ]
  },
  {
   "cell_type": "code",
   "execution_count": 302,
   "id": "b1babe6e-0665-48d9-adb8-a26e44b17b8b",
   "metadata": {
    "tags": []
   },
   "outputs": [
    {
     "data": {
      "text/plain": [
       " [734] - ERNEST JOHNNY PAYNE - STRATEGIC COMMUNICATION"
      ]
     },
     "metadata": {},
     "output_type": "display_data"
    },
    {
     "data": {
      "text/plain": [
       "ERNEST JOHNNY PAYNE - STRATEGIC COMMUNICATION"
      ]
     },
     "metadata": {},
     "output_type": "display_data"
    },
    {
     "data": {
      "text/plain": [
       " [254] - CHARLOTTE HALE - OWNER"
      ]
     },
     "metadata": {},
     "output_type": "display_data"
    },
    {
     "data": {
      "text/plain": [
       "CHARLOTTE HALE - OWNER"
      ]
     },
     "metadata": {},
     "output_type": "display_data"
    },
    {
     "name": "stderr",
     "output_type": "stream",
     "text": [
      "\n",
      "(5,53): warning CS8632: The annotation for nullable reference types should only be used in code within a '#nullable' annotations context.\n",
      "\n"
     ]
    }
   ],
   "source": [
    "\n",
    "public class Badge\n",
    "{\n",
    "    \n",
    "    public string print(int? id, string name, string? department)\n",
    "    {\n",
    "        var dept = (department ?? \"Owner\").ToUpper();\n",
    "        return id == null ? $\"{name.ToUpper()} - {dept}\" : $\" [{id}] - {name.ToUpper()} - {dept}\";\n",
    "    }\n",
    "\n",
    "}\n",
    "\n",
    "\n",
    "var badge = new Badge();\n",
    "display(badge.print(734, \"Ernest Johnny Payne\", \"Strategic Communication\"));\n",
    "\n",
    "display(badge.print(id : null, \"Ernest Johnny Payne\", \"Strategic Communication\"));\n",
    "\n",
    "display(badge.print(254, \"Charlotte Hale\", department: null));\n",
    "display(badge.print(id : null, \"Charlotte Hale\", department: null));"
   ]
  },
  {
   "cell_type": "code",
   "execution_count": null,
   "id": "2a7350d3-c261-4a5b-8e79-703f0fbd46bd",
   "metadata": {},
   "outputs": [],
   "source": []
  }
 ],
 "metadata": {
  "kernelspec": {
   "display_name": ".NET (C#)",
   "language": "C#",
   "name": ".net-csharp"
  },
  "language_info": {
   "file_extension": ".cs",
   "mimetype": "text/x-csharp",
   "name": "C#",
   "pygments_lexer": "csharp",
   "version": "11.0"
  }
 },
 "nbformat": 4,
 "nbformat_minor": 5
}
