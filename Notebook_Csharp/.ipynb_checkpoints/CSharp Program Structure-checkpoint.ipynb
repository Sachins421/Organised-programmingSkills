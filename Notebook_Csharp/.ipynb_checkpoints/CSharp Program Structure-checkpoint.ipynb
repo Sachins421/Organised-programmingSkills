{
 "cells": [
  {
   "cell_type": "markdown",
   "id": "80ef3016-943e-4e1c-a4a9-c17bdf25f1c8",
   "metadata": {},
   "source": [
    "# Top-level statements - programs without Main methods\n"
   ]
  },
  {
   "cell_type": "markdown",
   "id": "21a793eb-7ab6-46bb-8160-c2eb08879d2f",
   "metadata": {},
   "source": [
    "- You don't have to explicitly include a Main method in a console application project. Instead, you can use the top-level statements feature to minimize the code you have to write. In this case, the compiler generates a class and Main method entry point for the application.\n",
    "- Top-level statements let you write simple programs for small utilities such as Azure Functions and GitHub Actions. They also make it simpler for new C# programmers to get started learning and writing code.\n",
    "- For more information : https://learn.microsoft.com/en-us/dotnet/csharp/fundamentals/program-structure/top-level-statements\n",
    "    "
   ]
  },
  {
   "cell_type": "code",
   "execution_count": 1,
   "id": "9cd464c8-7674-4b1f-8a22-b021dc465088",
   "metadata": {},
   "outputs": [
    {
     "name": "stdout",
     "output_type": "stream",
     "text": [
      "Hello World!\n"
     ]
    }
   ],
   "source": [
    "Console.WriteLine(\"Hello World!\");"
   ]
  },
  {
   "cell_type": "markdown",
   "id": "e94e5731-96a8-4953-a92c-dd0906482d6e",
   "metadata": {},
   "source": [
    "# using directives"
   ]
  },
  {
   "cell_type": "markdown",
   "id": "e611faf3-ac84-4c39-9e3e-dd36ec623765",
   "metadata": {},
   "source": [
    "- If you include using directives, they must come first in the file, as in this example:\n",
    "\n"
   ]
  },
  {
   "cell_type": "code",
   "execution_count": 6,
   "id": "0c717393-3156-43cb-93c2-75090039367d",
   "metadata": {},
   "outputs": [
    {
     "name": "stdout",
     "output_type": "stream",
     "text": [
      "Hello\n",
      "World!\n",
      "\n"
     ]
    }
   ],
   "source": [
    "using System.Text;\n",
    "\n",
    "StringBuilder builder = new();\n",
    "builder.AppendLine(\"Hello\");\n",
    "builder.AppendLine(\"World!\");\n",
    "\n",
    "Console.WriteLine(builder.ToString());"
   ]
  },
  {
   "cell_type": "markdown",
   "id": "65744cf0-b975-47f1-80e0-d5f617d8c71c",
   "metadata": {},
   "source": [
    "# Global namespace\n",
    "- Top-level statements are implicitly in the global namespace.\n",
    "- Namespaces and type definitions\n",
    "    - A file with top-level statements can also contain namespaces and type definitions, but they must come after the top-level statements. For example:\n",
    "\n",
    "\n"
   ]
  },
  {
   "cell_type": "code",
   "execution_count": 1,
   "id": "6f7a5147-3f68-4395-b62e-131b754ee364",
   "metadata": {},
   "outputs": [
    {
     "data": {
      "text/html": [
       "\r\n",
       "<div>\r\n",
       "    <div id='dotnet-interactive-this-cell-2291.Microsoft.DotNet.Interactive.Http.HttpPort' style='display: none'>\r\n",
       "        The below script needs to be able to find the current output cell; this is an easy method to get it.\r\n",
       "    </div>\r\n",
       "    <script type='text/javascript'>\r\n",
       "async function probeAddresses(probingAddresses) {\r\n",
       "    function timeout(ms, promise) {\r\n",
       "        return new Promise(function (resolve, reject) {\r\n",
       "            setTimeout(function () {\r\n",
       "                reject(new Error('timeout'))\r\n",
       "            }, ms)\r\n",
       "            promise.then(resolve, reject)\r\n",
       "        })\r\n",
       "    }\r\n",
       "\r\n",
       "    if (Array.isArray(probingAddresses)) {\r\n",
       "        for (let i = 0; i < probingAddresses.length; i++) {\r\n",
       "\r\n",
       "            let rootUrl = probingAddresses[i];\r\n",
       "\r\n",
       "            if (!rootUrl.endsWith('/')) {\r\n",
       "                rootUrl = `${rootUrl}/`;\r\n",
       "            }\r\n",
       "\r\n",
       "            try {\r\n",
       "                let response = await timeout(1000, fetch(`${rootUrl}discovery`, {\r\n",
       "                    method: 'POST',\r\n",
       "                    cache: 'no-cache',\r\n",
       "                    mode: 'cors',\r\n",
       "                    timeout: 1000,\r\n",
       "                    headers: {\r\n",
       "                        'Content-Type': 'text/plain'\r\n",
       "                    },\r\n",
       "                    body: probingAddresses[i]\r\n",
       "                }));\r\n",
       "\r\n",
       "                if (response.status == 200) {\r\n",
       "                    return rootUrl;\r\n",
       "                }\r\n",
       "            }\r\n",
       "            catch (e) { }\r\n",
       "        }\r\n",
       "    }\r\n",
       "}\r\n",
       "\r\n",
       "function loadDotnetInteractiveApi() {\r\n",
       "    probeAddresses([\"http://192.168.0.90:2048/\", \"http://127.0.0.1:2048/\"])\r\n",
       "        .then((root) => {\r\n",
       "        // use probing to find host url and api resources\r\n",
       "        // load interactive helpers and language services\r\n",
       "        let dotnetInteractiveRequire = require.config({\r\n",
       "        context: '2291.Microsoft.DotNet.Interactive.Http.HttpPort',\r\n",
       "                paths:\r\n",
       "            {\r\n",
       "                'dotnet-interactive': `${root}resources`\r\n",
       "                }\r\n",
       "        }) || require;\r\n",
       "\r\n",
       "            window.dotnetInteractiveRequire = dotnetInteractiveRequire;\r\n",
       "\r\n",
       "            window.configureRequireFromExtension = function(extensionName, extensionCacheBuster) {\r\n",
       "                let paths = {};\r\n",
       "                paths[extensionName] = `${root}extensions/${extensionName}/resources/`;\r\n",
       "                \r\n",
       "                let internalRequire = require.config({\r\n",
       "                    context: extensionCacheBuster,\r\n",
       "                    paths: paths,\r\n",
       "                    urlArgs: `cacheBuster=${extensionCacheBuster}`\r\n",
       "                    }) || require;\r\n",
       "\r\n",
       "                return internalRequire\r\n",
       "            };\r\n",
       "        \r\n",
       "            dotnetInteractiveRequire([\r\n",
       "                    'dotnet-interactive/dotnet-interactive'\r\n",
       "                ],\r\n",
       "                function (dotnet) {\r\n",
       "                    dotnet.init(window);\r\n",
       "                },\r\n",
       "                function (error) {\r\n",
       "                    console.log(error);\r\n",
       "                }\r\n",
       "            );\r\n",
       "        })\r\n",
       "        .catch(error => {console.log(error);});\r\n",
       "    }\r\n",
       "\r\n",
       "// ensure `require` is available globally\r\n",
       "if ((typeof(require) !==  typeof(Function)) || (typeof(require.config) !== typeof(Function))) {\r\n",
       "    let require_script = document.createElement('script');\r\n",
       "    require_script.setAttribute('src', 'https://cdnjs.cloudflare.com/ajax/libs/require.js/2.3.6/require.min.js');\r\n",
       "    require_script.setAttribute('type', 'text/javascript');\r\n",
       "    \r\n",
       "    \r\n",
       "    require_script.onload = function() {\r\n",
       "        loadDotnetInteractiveApi();\r\n",
       "    };\r\n",
       "\r\n",
       "    document.getElementsByTagName('head')[0].appendChild(require_script);\r\n",
       "}\r\n",
       "else {\r\n",
       "    loadDotnetInteractiveApi();\r\n",
       "}\r\n",
       "\r\n",
       "    </script>\r\n",
       "</div>"
      ]
     },
     "metadata": {},
     "output_type": "display_data"
    },
    {
     "name": "stderr",
     "output_type": "stream",
     "text": [
      "\n",
      "(13,1): error CS7021: Cannot declare namespace in script code\n",
      "\n"
     ]
    },
    {
     "ename": "Error",
     "evalue": "compilation error",
     "output_type": "error",
     "traceback": []
    }
   ],
   "source": [
    "MyClass.TestMethod();\n",
    "MyNamespace.MyClass.MyMethod();\n",
    "\n",
    "public class MyClass\n",
    "{\n",
    "    public static void TestMethod()\n",
    "    {\n",
    "        Console.WriteLine(\"Hello World!\");\n",
    "    }\n",
    "\n",
    "}\n",
    "\n",
    "namespace MyNamespace\n",
    "{\n",
    "    class MyClass\n",
    "    {\n",
    "        public static void MyMethod()\n",
    "        {\n",
    "            Console.WriteLine(\"Hello World from MyNamespace.MyClass.MyMethod!\");\n",
    "        }\n",
    "    }\n",
    "}"
   ]
  },
  {
   "cell_type": "markdown",
   "id": "31b35788-de3e-4891-aac1-0b318ecc9076",
   "metadata": {},
   "source": [
    "# args\n",
    "- Top-level statements can reference the args variable to access any command-line arguments that were entered. The args variable is never null but its Length is zero if no command-line arguments were provided. For example:"
   ]
  },
  {
   "cell_type": "code",
   "execution_count": 2,
   "id": "2d068e3f-8375-4d26-b7a1-a60d12ceb605",
   "metadata": {},
   "outputs": [
    {
     "name": "stderr",
     "output_type": "stream",
     "text": [
      "\n",
      "(3,24): warning CS7022: The entry point of the program is global code; ignoring 'NewClass.Main(string[])' entry point.\n",
      "\n"
     ]
    }
   ],
   "source": [
    "class NewClass\n",
    "{\n",
    "    public static void Main(string[] args)\n",
    "    {\n",
    "        \n",
    "        if (args.Length > 0)\n",
    "        {\n",
    "            foreach (var arg in args)\n",
    "            {\n",
    "                Console.WriteLine($\"Argument={arg}\");\n",
    "            }\n",
    "        }\n",
    "        else\n",
    "        {\n",
    "            Console.WriteLine(\"No arguments\");\n",
    "        }\n",
    "    }\n",
    "}"
   ]
  },
  {
   "cell_type": "markdown",
   "id": "48885193-dfa5-4722-822d-3b44857a23d0",
   "metadata": {},
   "source": [
    "# Implicit entry point method\n",
    "- The compiler generates a method to serve as the program entry point for a project with top-level statements. The name of this method isn't actually Main, it's an implementation detail that your code can't reference directly. The signature of the method depends on whether the top-level statements contain the await keyword or the return statement. The following table shows what the method signature would look like, using the method name Main in the table for convenience."
   ]
  },
  {
   "cell_type": "raw",
   "id": "2548d104-3383-4537-8117-69d08ecab842",
   "metadata": {},
   "source": [
    "Top level code contains                                 Implicit Main signature\n",
    "- await and return                                      static async Task<int> Main(string[] args)\n",
    "- await                                                 static async Task Main(string[] args)\n",
    "- return                                                static int Main(string[] args)\n",
    "- No wait and return                                    static Main(string[] args)"
   ]
  },
  {
   "cell_type": "markdown",
   "id": "928d7e32-cae1-4205-a796-6cd32fe27c5f",
   "metadata": {},
   "source": [
    "# Main() and command-line arguments\n"
   ]
  },
  {
   "cell_type": "markdown",
   "id": "4e69ea13-ccb8-4852-90a8-38ffda48c098",
   "metadata": {},
   "source": [
    "- The Main method is the entry point of a C# application. (Libraries and services do not require a Main method as an entry point.) When the application is started, the Main method is the first method that is invoked.\n",
    "\n",
    "There can only be one entry point in a C# program. If you have more than one class that has a Main method, you must compile your program with the StartupObject compiler option to specify which Main method to use as the entry point. For more information, see StartupObject (C# Compiler Options)https://learn.microsoft.com/en-us/dotnet/csharp/language-reference/compiler-options/advanced#mainentrypoint-or-startupobject.\n",
    "\n"
   ]
  },
  {
   "cell_type": "code",
   "execution_count": 5,
   "id": "f64c4c49-e506-4b35-9d3f-d13c9c711b20",
   "metadata": {},
   "outputs": [
    {
     "data": {
      "text/plain": [
       "Sachin"
      ]
     },
     "metadata": {},
     "output_type": "display_data"
    }
   ],
   "source": [
    "//class TestClass\n",
    "//{\n",
    "   // static void Main(string[] args)\n",
    "    //{\n",
    "        // Display the number of command line arguments.\n",
    "        //Console.WriteLine(args.Length);\n",
    "         //display(\"Sachin\");\n",
    "   // }\n",
    "//}"
   ]
  },
  {
   "cell_type": "markdown",
   "id": "db4e1786-05c7-4823-9c01-507491a3fac2",
   "metadata": {},
   "source": [
    "- The Main method is the entry point of an executable program; it is where the program control starts and ends.\n",
    "- Main is declared inside a class or struct. Main must be static and it need not be public. (In the earlier example, it receives the default access of private.) The enclosing class or struct is not required to be static.\n",
    "- Main can either have a void, int, Task, or Task<int> return type.\n",
    "- If and only if Main returns a Task or Task<int>, the declaration of Main may include the async modifier. This specifically excludes an async void Main method.\n",
    "- The Main method can be declared with or without a string[] parameter that contains command-line arguments. When using Visual Studio to - create Windows applications, you can add the parameter manually or else use the GetCommandLineArgs() method to obtain the command-line arguments. Parameters are read as zero-indexed command-line arguments. Unlike C and C++, the name of the program is not treated as the first command-line argument in the args array, but it is the first element of the GetCommandLineArgs() method.\n",
    "- For more information https://learn.microsoft.com/en-us/dotnet/csharp/fundamentals/program-structure/main-command-line"
   ]
  },
  {
   "cell_type": "code",
   "execution_count": 7,
   "id": "a55b2bc5-acfb-4640-a107-1278021f4a1f",
   "metadata": {},
   "outputs": [
    {
     "name": "stderr",
     "output_type": "stream",
     "text": [
      "\n",
      "(3,19): error CS0111: Type 'Submission#9' already defines a member called 'Main' with the same parameter types\n",
      "\n",
      "(5,19): error CS0111: Type 'Submission#9' already defines a member called 'Main' with the same parameter types\n",
      "\n",
      "(6,26): error CS0111: Type 'Submission#9' already defines a member called 'Main' with the same parameter types\n",
      "\n",
      "(7,31): error CS0111: Type 'Submission#9' already defines a member called 'Main' with the same parameter types\n",
      "\n",
      "(8,26): error CS0111: Type 'Submission#9' already defines a member called 'Main' with the same parameter types\n",
      "\n",
      "(9,31): error CS0111: Type 'Submission#9' already defines a member called 'Main' with the same parameter types\n",
      "\n",
      "(3,19): error CS0161: 'Main()': not all code paths return a value\n",
      "\n",
      "(5,19): error CS0161: 'Main(string[])': not all code paths return a value\n",
      "\n",
      "(7,31): error CS0161: 'Main()': not all code paths return a value\n",
      "\n",
      "(9,31): error CS0161: 'Main(string[])': not all code paths return a value\n",
      "\n"
     ]
    },
    {
     "ename": "Error",
     "evalue": "compilation error",
     "output_type": "error",
     "traceback": []
    }
   ],
   "source": [
    "// Valid Main signature\n",
    "public static void Main() { }\n",
    "public static int Main() { }\n",
    "public static void Main(string[] args) { }\n",
    "public static int Main(string[] args) { }\n",
    "public static async Task Main() { }\n",
    "public static async Task<int> Main() { }\n",
    "public static async Task Main(string[] args) { }\n",
    "public static async Task<int> Main(string[] args) { }\n",
    "// The preceding examples all use the public accessor modifier. That's typical, but not required.\n",
    "// The addition of async and Task, Task<int> return types simplifies program code when console \n",
    "// applications need to start and await asynchronous operations in Main.\n"
   ]
  },
  {
   "cell_type": "code",
   "execution_count": 15,
   "id": "9fefec78-839c-445b-b38b-e0ae212cc626",
   "metadata": {},
   "outputs": [
    {
     "name": "stderr",
     "output_type": "stream",
     "text": [
      "\n",
      "(18,2): error CS1513: } expected\n",
      "\n",
      "(18,2): error CS1513: } expected\n",
      "\n"
     ]
    },
    {
     "ename": "Error",
     "evalue": "compilation error",
     "output_type": "error",
     "traceback": []
    }
   ],
   "source": [
    "public class Calculatefactorial\n",
    "{\n",
    "    public static long Fact(int n)\n",
    "    {\n",
    "        if ((n < 0) || (n > 20))\n",
    "        {\n",
    "            return -1;\n",
    "        {\n",
    "\n",
    "        long tempResult = 1;\n",
    "            \n",
    "        for(int i =1; i<=n; i++)\n",
    "        {\n",
    "            tempResult *= 1;\n",
    "        }\n",
    "        return tempResult;\n",
    "    }\n",
    "}\n"
   ]
  },
  {
   "cell_type": "code",
   "execution_count": 8,
   "id": "29adde8d-9452-4f11-9855-4c7f34fb9cb7",
   "metadata": {},
   "outputs": [],
   "source": []
  }
 ],
 "metadata": {
  "kernelspec": {
   "display_name": ".NET (C#)",
   "language": "C#",
   "name": ".net-csharp"
  },
  "language_info": {
   "file_extension": ".cs",
   "mimetype": "text/x-csharp",
   "name": "C#",
   "pygments_lexer": "csharp",
   "version": "11.0"
  }
 },
 "nbformat": 4,
 "nbformat_minor": 5
}
